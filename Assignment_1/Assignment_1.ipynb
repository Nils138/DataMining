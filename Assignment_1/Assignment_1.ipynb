{
 "cells": [
  {
   "cell_type": "markdown",
   "metadata": {},
   "source": [
    "# Assignment 1\n",
    "\n",
    "## Objective of this assignment\n",
    "The objective is to get acquainted with the Python language, with emphasis on its scientific and numerical extensions, how data can be imported from other data sources, linear algebra basics that is needed in this course, visualization using principal component analysis (PCA) and the concept of similarity. Upon completing this exercise it is expected that you:\n",
    "\n",
    "- Understand how data can be represented as vectors and matrices in numerical Python (NumPy).\n",
    "- Can apply and interpret principal component analysis (PCA) for data visualization.\n",
    "- Understand the various measures of similarity such as Jaccard and Cosine similarity and apply similarity measures to query for similar observations.\n",
    "\n",
    "## ** Important: ** When handing in your homework:\n",
    "+ Hand in the notebook (and nothing else) named as follows: StudentName1_snumber_StudentName2_snumber.ipynb\n",
    "+ Provide clear and complete answers to the questions below under a seperate header (not hidden some-where in your source code), and make sure to explain your answers / motivate your choices. Add Markdown cells where necessary.\n",
    "+ Source code, output graphs, derivations, etc., should be included in the notebook.\n",
    "+ Hand-in: upload to Blackboard.\n",
    "+ Include name, student number, assignment (especially in filenames)!\n",
    "+ When working in pairs only one of you should upload the assignment, and report the name of your partner in your filename.\n",
    "+ For problems or questions: use the BB discussion board or email the student assistants.\n",
    "\n",
    "## Advised Reading and Exercise Material\n",
    "**The following on-line materials are recommended:**\n",
    "\n",
    "- <http://docs.python.org/tutorial> - Introduction into Python environment, syntax and data structures. Recommended reading - sections 1, 2, 3, 4 and 5.\n",
    "- <http://www.scipy.org/Tentative_NumPy_Tutorial> - Tutorial introducing the scientific computing in Python, array and matrix operations, indexing and slicing matrices.\n",
    "- <http://www.scipy.org/NumPy_for_Matlab_Users> - Useful reference to scientific computing in Python if you have previous experience with MATLAB programming.\n",
    "- <https://www.datacamp.com/courses/intro-to-python-for-data-science> - Simple introduction to Data Science using Python.\n",
    "- <http://matplotlib.sourceforge.net> - Documentation and examples related to matplotlib module, which we shall use extensively through the course to visualize data and results.\n",
    "- Pang-Ning Tan, Michael Steinbach, and Vipin Kumar, {\\em Introduction to Data Mining}, sections 2.1-2.3 + (A) + B.1\n",
    "- <http://http://www.youtube.com/course?list=ECEA1FEF17E1E5C0DA> - Series of video tutorials covering basics of Python programming.\n",
    "- Pang-Ning Tan, Michael Steinbach, and Vipin Kumar, {\\em Introduction to Data Mining}, sections 2.4 + 3.1-3.2 + C.1-C.2\n",
    "\n",
    "\n",
    "## 1.1 Python and Linear Algebra basics\n",
    "\n",
    "**For this course we advise to only use NumPy ndarrays ndarrays to represent vectors and matrices. The numpy.matrix data type, although intuitive, is less supported and uses operators for multiplication differently. This means that you can't perform matrix multiplications symbollically, but that you will have to use functions from the NumPy library!** \n",
    "\n",
    "**1.1.1** (0.3 points) Generate (and print) the following vectors using functions from the *NumPy* package in Python: \n",
    "*Note: You do not have to print column vectors as columns!*\n",
    "\n",
    "\\begin{equation}\n",
    "     \\textbf{x} = \\begin{pmatrix} \n",
    "         6 \\\\\n",
    "         7 \\\\\n",
    "         8 \\\\\n",
    "         9 \\\\\n",
    "         10 \\\\\n",
    "         11 \\\\\n",
    "         12\n",
    "       \\end{pmatrix}\n",
    "     \\textbf{y} = \\begin{pmatrix} \n",
    "         3 \\\\\n",
    "         7 \\\\\n",
    "         11 \\\\\n",
    "         15 \\\\\n",
    "         19 \\\\\n",
    "         23 \\\\\n",
    "         27\n",
    "       \\end{pmatrix}\n",
    "     \\textbf{w} = \\begin{pmatrix} \n",
    "         1 \\\\\n",
    "         1 \\\\\n",
    "         0 \\\\\n",
    "         0.5 \\\\\n",
    "         1 \\\\\n",
    "         1.5 \\\\\n",
    "         2 \\\\\n",
    "         0 \\\\\n",
    "         0 \n",
    "       \\end{pmatrix}\n",
    "     \\textbf{s} = \\begin{pmatrix}\n",
    "         100 \\\\\n",
    "         98.8 \\\\\n",
    "         97.6 \\\\\n",
    "         96.4 \\\\\n",
    "         95.2\n",
    "       \\end{pmatrix} \n",
    "     \\textbf{z} = \\begin{pmatrix}\n",
    "         0.7 \\\\\n",
    "         1.0 \\\\\n",
    "         1.3 \\\\\n",
    "         1.6 \\\\\n",
    "         1.9 \\\\\n",
    "         2.2 \\\\\n",
    "         2.5 \\\\\n",
    "         2.8\n",
    "       \\end{pmatrix}\n",
    "  \\end{equation}\n",
    "\n"
   ]
  },
  {
   "cell_type": "code",
   "execution_count": 3,
   "metadata": {},
   "outputs": [],
   "source": [
    "#Import NumPy\n",
    "import numpy as np\n",
    "#You'll have to manually import libraries in the future!"
   ]
  },
  {
   "cell_type": "code",
   "execution_count": 4,
   "metadata": {},
   "outputs": [
    {
     "name": "stdout",
     "output_type": "stream",
     "text": [
      "[ 6  7  8  9 10 11 12]\n",
      "[ 3  7 11 15 19 23 27]\n",
      "[1.  1.  0.  0.5 1.  1.5 2.  0.  0. ]\n",
      "[100.   98.8  97.6  96.4  95.2]\n",
      "[0.7 1.  1.3 1.6 1.9 2.2 2.5 2.8]\n"
     ]
    }
   ],
   "source": [
    "##Generate the vectors in  using Python and NumPy \n",
    "\n",
    "\n",
    "x = np.array([6, 7, 8, 9, 10, 11, 12])\n",
    "y = np.array([3, 7, 11, 15, 19, 23, 27])\n",
    "w = np.array([1, 1, 0, 0.5, 1, 1.5, 2, 0, 0])\n",
    "s = np.array([100, 98.8, 97.6, 96.4, 95.2])\n",
    "z = np.array([0.7, 1.0, 1.3, 1.6, 1.9, 2.2, 2.5, 2.8])\n",
    "\n",
    "print(x)\n",
    "print(y)\n",
    "print(w)\n",
    "print(s)\n",
    "print(z)"
   ]
  },
  {
   "cell_type": "markdown",
   "metadata": {},
   "source": [
    "Then compute the following operations:\n",
    "> a. (0.2 points) **v** = 3**x** + **y**"
   ]
  },
  {
   "cell_type": "code",
   "execution_count": 8,
   "metadata": {},
   "outputs": [
    {
     "name": "stdout",
     "output_type": "stream",
     "text": [
      "[21 28 35 42 49 56 63]\n"
     ]
    }
   ],
   "source": [
    "##Answer to question 1.1.1a\n",
    "v = 3 * x + y\n",
    "print(v)"
   ]
  },
  {
   "cell_type": "markdown",
   "metadata": {},
   "source": [
    "> b. (0.2 points) Compute the dot product between **x** and **y** and name it **q**\n"
   ]
  },
  {
   "cell_type": "code",
   "execution_count": 40,
   "metadata": {},
   "outputs": [
    {
     "name": "stdout",
     "output_type": "stream",
     "text": [
      "566\n"
     ]
    }
   ],
   "source": [
    "##Answer to question 1.1.1b\n",
    "q = x @ y\n",
    "print(q)"
   ]
  },
  {
   "cell_type": "markdown",
   "metadata": {},
   "source": [
    "> c. (0.2 points) **t** = pi(**s** + 4) (element wise multiplication)"
   ]
  },
  {
   "cell_type": "code",
   "execution_count": 14,
   "metadata": {},
   "outputs": [
    {
     "name": "stdout",
     "output_type": "stream",
     "text": [
      "[326.72563597 322.95572479 319.1858136  315.41590242 311.64599124]\n"
     ]
    }
   ],
   "source": [
    "##Answer to question 1.1.1c\n",
    "import math as maths\n",
    "\n",
    "t = maths.pi * (s + 4)\n",
    "print(t)"
   ]
  },
  {
   "cell_type": "markdown",
   "metadata": {},
   "source": [
    "> d. (0.2 points) **z** = **z** - 1"
   ]
  },
  {
   "cell_type": "code",
   "execution_count": 15,
   "metadata": {},
   "outputs": [
    {
     "name": "stdout",
     "output_type": "stream",
     "text": [
      "[-0.3  0.   0.3  0.6  0.9  1.2  1.5  1.8]\n"
     ]
    }
   ],
   "source": [
    "##Answer to question 1.1.1d\n",
    "z = z - 1\n",
    "print(z)"
   ]
  },
  {
   "cell_type": "markdown",
   "metadata": {},
   "source": [
    "> e. (0.2 points) replace some values of x, such that the last three values in the vector are 4"
   ]
  },
  {
   "cell_type": "code",
   "execution_count": 17,
   "metadata": {},
   "outputs": [
    {
     "name": "stdout",
     "output_type": "stream",
     "text": [
      "[6 7 8 9 4 4 4]\n"
     ]
    }
   ],
   "source": [
    "##Answer to question 1.1.1e\n",
    "for i, element in enumerate(x):\n",
    "    if element >= 10:\n",
    "        x[i] = 4\n",
    "print(x)"
   ]
  },
  {
   "cell_type": "markdown",
   "metadata": {},
   "source": [
    "> f. (0.2 points) **r** = 2**w** - 5"
   ]
  },
  {
   "cell_type": "code",
   "execution_count": 18,
   "metadata": {},
   "outputs": [
    {
     "name": "stdout",
     "output_type": "stream",
     "text": [
      "[-3. -3. -5. -4. -3. -2. -1. -5. -5.]\n"
     ]
    }
   ],
   "source": [
    "##Answer to question 1.1.1f\n",
    "r = 2 * w - 5\n",
    "print(r)"
   ]
  },
  {
   "cell_type": "markdown",
   "metadata": {},
   "source": [
    "**1.1.2** (0.25 points) Generate these matrices:\n",
    "\n",
    "\\begin{equation}\n",
    "     \\textbf{M} = \\begin{pmatrix} \n",
    "         1 & 2 & 3 \\\\\n",
    "         6 & 8 & 4 \\\\\n",
    "         6 & 7 & 5          \n",
    "         \\end{pmatrix}\n",
    "     \\textbf{N} = \\begin{pmatrix} \n",
    "         4 & 6 \\\\\n",
    "         7 & 2 \\\\\n",
    "         5 & 1\n",
    "         \\end{pmatrix}\n",
    "     \\textbf{P} = \\begin{pmatrix} \n",
    "         2 & 5 \\\\\n",
    "         5 & 5 \n",
    "         \\end{pmatrix}   \n",
    "\\end{equation}\n",
    "\n",
    "Afterwards try and compute the operations for subquestions *a* up to and including *e* and print the resulting matrix. If some operations yield errors, give the reason as to why that happens.\n",
    "\n",
    "*A hint: NumPy has functions for matrix operations you can, and should, use!*"
   ]
  },
  {
   "cell_type": "code",
   "execution_count": 5,
   "metadata": {},
   "outputs": [
    {
     "name": "stdout",
     "output_type": "stream",
     "text": [
      "[[1 2 3]\n",
      " [6 8 4]\n",
      " [6 7 5]]\n",
      "[[4 6]\n",
      " [7 2]\n",
      " [5 1]]\n",
      "[[2 5]\n",
      " [5 5]]\n"
     ]
    }
   ],
   "source": [
    "##Generate the matrices using Python and NumPy\n",
    "M = np.array([[1, 2, 3], [6, 8, 4], [6, 7, 5]])\n",
    "N = np.array([[4, 6], [7, 2], [5, 1]])\n",
    "P = np.array([[2, 5], [5, 5]])\n",
    "print(M)\n",
    "print(N)\n",
    "print(P)"
   ]
  },
  {
   "cell_type": "markdown",
   "metadata": {},
   "source": [
    "> a. (0.2 points) **A** = **MN** + **N**"
   ]
  },
  {
   "cell_type": "code",
   "execution_count": 17,
   "metadata": {},
   "outputs": [
    {
     "name": "stdout",
     "output_type": "stream",
     "text": [
      "[[ 37  19]\n",
      " [107  58]\n",
      " [103  56]]\n"
     ]
    }
   ],
   "source": [
    "##Answer to question 1.1.2a\n",
    "A = M @ N + N\n",
    "print(A)"
   ]
  },
  {
   "cell_type": "markdown",
   "metadata": {},
   "source": [
    "> b. (0.2 points) **B** = **N**<sup>T</sup>**M**"
   ]
  },
  {
   "cell_type": "code",
   "execution_count": 18,
   "metadata": {},
   "outputs": [
    {
     "name": "stdout",
     "output_type": "stream",
     "text": [
      "[[76 99 65]\n",
      " [24 35 31]]\n"
     ]
    }
   ],
   "source": [
    "##Answer to question 1.1.2b\n",
    "B = N.transpose() @ M\n",
    "print(B)"
   ]
  },
  {
   "cell_type": "markdown",
   "metadata": {},
   "source": [
    "> c. (0.2 points) **C** = **P**<sup>-1</sup> + **P**"
   ]
  },
  {
   "cell_type": "code",
   "execution_count": 19,
   "metadata": {},
   "outputs": [
    {
     "name": "stdout",
     "output_type": "stream",
     "text": [
      "[[1.66666667 5.33333333]\n",
      " [5.33333333 4.86666667]]\n"
     ]
    }
   ],
   "source": [
    "##Answer to question 1.1.2c\n",
    "from numpy import linalg\n",
    "C = linalg.inv(P) + P\n",
    "print(C)"
   ]
  },
  {
   "cell_type": "markdown",
   "metadata": {},
   "source": [
    "> d. (0.2 points) **D** = **AC**(**C** + **B**)"
   ]
  },
  {
   "cell_type": "code",
   "execution_count": 11,
   "metadata": {},
   "outputs": [
    {
     "ename": "ValueError",
     "evalue": "shapes (3,3) and (2,3) not aligned: 3 (dim 1) != 2 (dim 0)",
     "output_type": "error",
     "traceback": [
      "\u001b[1;31m---------------------------------------------------------------------------\u001b[0m",
      "\u001b[1;31mValueError\u001b[0m                                Traceback (most recent call last)",
      "\u001b[1;32m<ipython-input-11-7db7848fd382>\u001b[0m in \u001b[0;36m<module>\u001b[1;34m()\u001b[0m\n\u001b[0;32m      3\u001b[0m \u001b[1;31m##B and C have different dimensions\u001b[0m\u001b[1;33m\u001b[0m\u001b[1;33m\u001b[0m\u001b[0m\n\u001b[0;32m      4\u001b[0m \u001b[0mC\u001b[0m \u001b[1;33m=\u001b[0m \u001b[0mnp\u001b[0m\u001b[1;33m.\u001b[0m\u001b[0marray\u001b[0m\u001b[1;33m(\u001b[0m\u001b[1;33m[\u001b[0m\u001b[1;33m[\u001b[0m\u001b[1;36m1.67\u001b[0m\u001b[1;33m,\u001b[0m \u001b[1;36m5.33\u001b[0m\u001b[1;33m,\u001b[0m \u001b[1;36m0\u001b[0m\u001b[1;33m]\u001b[0m\u001b[1;33m,\u001b[0m \u001b[1;33m[\u001b[0m\u001b[1;36m5.33\u001b[0m\u001b[1;33m,\u001b[0m \u001b[1;36m4.87\u001b[0m\u001b[1;33m,\u001b[0m \u001b[1;36m0\u001b[0m\u001b[1;33m]\u001b[0m\u001b[1;33m]\u001b[0m\u001b[1;33m)\u001b[0m\u001b[1;33m\u001b[0m\u001b[0m\n\u001b[1;32m----> 5\u001b[1;33m \u001b[0mD\u001b[0m \u001b[1;33m=\u001b[0m \u001b[0mA\u001b[0m \u001b[1;33m@\u001b[0m \u001b[0mC\u001b[0m \u001b[1;33m@\u001b[0m \u001b[1;33m(\u001b[0m\u001b[0mC\u001b[0m \u001b[1;33m+\u001b[0m \u001b[0mB\u001b[0m\u001b[1;33m)\u001b[0m\u001b[1;33m\u001b[0m\u001b[0m\n\u001b[0m\u001b[0;32m      6\u001b[0m \u001b[0mprint\u001b[0m\u001b[1;33m(\u001b[0m\u001b[0mD\u001b[0m\u001b[1;33m)\u001b[0m\u001b[1;33m\u001b[0m\u001b[0m\n",
      "\u001b[1;31mValueError\u001b[0m: shapes (3,3) and (2,3) not aligned: 3 (dim 1) != 2 (dim 0)"
     ]
    }
   ],
   "source": [
    "##Answer to question 1.1.2d\n",
    "\n",
    "##B and C have different dimensions so I can't add them.\n",
    "##Adding zeros to a matrix means the dimensions for the rest of the equation don't work.\n",
    "\n",
    "D = A @ C @ (C + B)\n",
    "print(D)"
   ]
  },
  {
   "cell_type": "markdown",
   "metadata": {},
   "source": [
    "> e. (0.2 points) Compute the eigenvalues and eigenvectors of **M**, **N**, and **P** (and print them)."
   ]
  },
  {
   "cell_type": "code",
   "execution_count": 6,
   "metadata": {},
   "outputs": [
    {
     "name": "stdout",
     "output_type": "stream",
     "text": [
      "[14.26208735 -1.26208735  1.        ]\n",
      "[[-0.25759308 -0.84234218  0.51507875]\n",
      " [-0.68324439  0.38109032 -0.71318597]\n",
      " [-0.68324439  0.38109032  0.47545731]]\n",
      "[ 0.         -3.55743852  9.55743852]\n",
      "[[ 0.          0.52043489 -0.66779522]\n",
      " [ 0.         -0.65552578 -0.61853848]\n",
      " [ 1.         -0.54720515 -0.41407691]]\n",
      "[-1.72015325  8.72015325]\n",
      "[[-0.80229293 -0.59693053]\n",
      " [ 0.59693053 -0.80229293]]\n"
     ]
    }
   ],
   "source": [
    "##the linalg.eig function only works for square matrices so I made N a square matrix by adding zeros\n",
    "from numpy import linalg\n",
    "\n",
    "evaM, eveM = linalg.eig(M)\n",
    "N = np.array([[4, 6, 0], [7, 2, 0], [5, 1, 0]])\n",
    "evaN, eveN = linalg.eig(N)\n",
    "evaP, eveP = linalg.eig(P)\n",
    "\n",
    "print(evaM)\n",
    "print(eveM)\n",
    "print(evaN)\n",
    "print(eveN)\n",
    "print(evaP)\n",
    "print(eveP)"
   ]
  },
  {
   "cell_type": "markdown",
   "metadata": {},
   "source": [
    "## 1.2 Principal Component Analysis\n",
    "\n",
    "**1.2.1** many experimenters have a habit of using Microsoft Excel as their tool to record measurements from experiments. Fortunately Python can read Excel files. Various methods exist, of which the use of the Python library Pandas is arguably one of the easiest for the purpose of Data Mining.\n",
    "\n",
    "The data used in this exercise is based on data from a chemical sensor obtained from the NanoNose project[1]. The data contains 8 sensors, named by the letters A-H, measuring the concentration of Water, Ethanol, Acetone, Heptane and Pentanol injected into a small gas chamber. The data will be represented in matrix form such that each column contains the 8 sensor measurements (i.e., sensor A-H) of the various compounds injected into the gas chamber.\n",
    "> a. (0.2 points) Inspect the nanonose.xls file in the Data folder and make sure you understand how the data is stored in Excel.\n",
    "\n",
    "> *Load the data in python using the Pandas library (use the read_excel() function). Make sure you read some of the Pandas documentation! Especially slicing, indexing and dropping are useful commands*\n",
    "\n",
    "> *make sure to inspect the data first! You should cut out some rows and columns! You can easily inspect the structure of the Pandas dataframe using the head() function.*\n",
    "\n",
    "> *Finally use the as_matrix() function to cast the Pandas dataframe to a NumPy array. Note: counterintuitively, this yields an object of type: numpy.ndarray, not of type numpy.matrix!*"
   ]
  },
  {
   "cell_type": "code",
   "execution_count": 15,
   "metadata": {},
   "outputs": [
    {
     "name": "stdout",
     "output_type": "stream",
     "text": [
      "[[ 9.55000000e+01  2.10000000e+01  6.00000000e+00  1.19423077e+01\n",
      "   6.41346154e+01  2.14985600e+01  5.56784000e+00  1.17413500e+00]\n",
      " [ 9.45000000e+01  1.70000000e+01  5.00000000e+00  5.48461538e+00\n",
      "   6.32057692e+01  1.96585600e+01  4.96800000e+00  1.88344390e+00]\n",
      " [ 9.20000000e+01  1.60000000e+01  3.00000000e+00  1.10576923e+01\n",
      "   6.25865385e+01  1.98131200e+01  5.19248000e+00  5.64834677e-01]\n",
      " [ 5.30000000e+01  7.50000000e+00  2.50000000e+00  3.53846154e+00\n",
      "   3.51634615e+01  6.87620690e+00  1.64172414e+00  1.44654088e-01]\n",
      " [ 5.10000000e+01  7.50000000e+00  2.50000000e+00  4.86538462e+00\n",
      "   3.40576923e+01  6.75724138e+00  1.61396552e+00  5.96627756e-02]\n",
      " [ 5.00000000e+01  8.00000000e+00  2.50000000e+00  3.98076923e+00\n",
      "   3.36153846e+01  6.77310345e+00  1.77655172e+00  7.55088641e-02]\n",
      " [ 2.75000000e+01  4.00000000e+00  1.50000000e+00  2.20000000e+00\n",
      "   1.83557692e+01  2.79833333e+00  5.63500000e-01  3.03830911e-02]\n",
      " [ 2.75000000e+01  4.50000000e+00  1.50000000e+00  2.20000000e+00\n",
      "   1.72500000e+01  2.62966667e+00  8.54833333e-01  0.00000000e+00]\n",
      " [ 2.70000000e+01  4.00000000e+00  1.50000000e+00  3.10000000e+00\n",
      "   1.74711538e+01  2.64500000e+00  6.24833333e-01  0.00000000e+00]\n",
      " [ 1.35000000e+01  1.50000000e+00  0.00000000e+00  1.76923077e+00\n",
      "   9.73076923e+00  1.11406250e+00  4.95937500e-01  0.00000000e+00]\n",
      " [ 1.30000000e+01  2.00000000e+00  5.00000000e-01  2.65384615e+00\n",
      "   1.06153846e+01  1.07812500e+00  4.52812500e-01  0.00000000e+00]\n",
      " [ 1.32500000e+01  2.50000000e+00  2.50000000e-01  2.65384615e+00\n",
      "   8.84615385e+00  4.24062500e-01  1.15000000e-01  0.00000000e+00]\n",
      " [ 4.50000000e+00  8.00000000e-01  0.00000000e+00  4.42307692e-01\n",
      "   2.43269231e+00  6.51666667e-01  5.29000000e-01  0.00000000e+00]\n",
      " [ 4.00000000e+00  8.00000000e-01  0.00000000e+00  8.84615385e-01\n",
      "   3.67115385e+00  4.06333333e-01  3.48833333e-01  0.00000000e+00]\n",
      " [ 3.70000000e+00  5.00000000e-01  0.00000000e+00  1.32692308e+00\n",
      "   3.75961538e+00  3.29666667e-01  2.53000000e-01  0.00000000e+00]\n",
      " [ 1.50000000e+00  0.00000000e+00  0.00000000e+00  0.00000000e+00\n",
      "   1.10769231e+00  1.32324324e-01  1.44000000e-01  0.00000000e+00]\n",
      " [ 1.50000000e+00  0.00000000e+00  0.00000000e+00  0.00000000e+00\n",
      "   1.32923077e+00 -6.22702703e-02  5.44864865e-02  0.00000000e+00]\n",
      " [ 1.50000000e+00  0.00000000e+00  0.00000000e+00  0.00000000e+00\n",
      "   1.50646154e+00  3.50270270e-01  5.48756757e-01  0.00000000e+00]\n",
      " [ 2.30000000e+01  5.10000000e+01  2.50000000e+01  9.60000000e+01\n",
      "   1.42500000e+02  6.95290909e+01  3.89518182e+01  3.54265994e+01]\n",
      " [ 2.35000000e+01  6.10000000e+01  3.02000000e+01  1.29000000e+02\n",
      "   1.42000000e+02  6.55581818e+01  3.92827273e+01  3.54823433e+01]\n",
      " [ 2.20000000e+01  6.35000000e+01  3.05000000e+01  1.49000000e+02\n",
      "   1.40500000e+02  6.43109091e+01  3.94481818e+01  3.61791677e+01]\n",
      " [ 1.25000000e+01  5.05000000e+01  2.00000000e+01  6.00000000e+01\n",
      "   9.45000000e+01  3.01714286e+01  3.17280000e+01  1.82377383e+01]\n",
      " [ 1.25000000e+01  5.10000000e+01  2.05000000e+01  5.20000000e+01\n",
      "   9.35000000e+01  3.05142857e+01  3.14811429e+01  1.82481333e+01]\n",
      " [ 1.20000000e+01  5.00000000e+01  1.80000000e+01  5.00000000e+01\n",
      "   8.95000000e+01  2.82788571e+01  3.08777143e+01  1.82688110e+01]\n",
      " [ 6.00000000e+00  3.35000000e+01  1.25000000e+01  2.60000000e+01\n",
      "   6.55000000e+01  1.37585455e+01  2.19796364e+01  9.99343139e+00]\n",
      " [ 6.00000000e+00  3.20000000e+01  1.15000000e+01  2.80000000e+01\n",
      "   6.30000000e+01  1.40334545e+01  2.22152727e+01  1.03029457e+01]\n",
      " [ 7.50000000e+00  3.15000000e+01  1.15000000e+01  2.50000000e+01\n",
      "   6.10000000e+01  1.41381818e+01  2.18029091e+01  9.64016736e+00]\n",
      " [ 5.00000000e+00  2.35000000e+01  8.20000000e+00  1.06875000e+01\n",
      "   3.79687500e+01  5.95862069e+00  1.49275862e+01  5.55704698e+00]\n",
      " [ 5.50000000e+00  2.40000000e+01  9.00000000e+00  1.06875000e+01\n",
      "   3.76875000e+01  6.20689655e+00  1.45986207e+01  4.58681948e+00]\n",
      " [ 5.25000000e+00  2.37500000e+01  8.60000000e+00  1.06875000e+01\n",
      "   3.85312500e+01  5.46206897e+00  1.38289655e+01  5.16295105e+00]\n",
      " [ 5.00000000e-01  1.18000000e+01  3.50000000e+00  3.37500000e+00\n",
      "   2.27812500e+01  2.76000000e+00  1.01200000e+01  3.28943338e+00]\n",
      " [ 1.00000000e+00  1.23000000e+01  3.30000000e+00  3.37500000e+00\n",
      "   2.30625000e+01  2.54666667e+00  9.94000000e+00  3.35397758e+00]\n",
      " [ 1.00000000e+00  1.14000000e+01  3.50000000e+00  3.15000000e+00\n",
      "   2.27812500e+01  2.64000000e+00  9.89333333e+00  3.35946991e+00]\n",
      " [ 0.00000000e+00  5.50000000e+00  1.50000000e+00  1.68750000e+00\n",
      "   1.20937500e+01  9.39705882e-01  5.74411765e+00  1.73898305e+00]\n",
      " [ 0.00000000e+00  5.70000000e+00  1.50000000e+00  1.68750000e+00\n",
      "   1.23750000e+01  1.46911765e+00  5.85661765e+00  1.52228571e+00]\n",
      " [ 0.00000000e+00  5.50000000e+00  1.80000000e+00  2.25000000e+00\n",
      "   1.26562500e+01  1.20441176e+00  5.69779412e+00  1.91061453e+00]\n",
      " [ 1.55000000e+01  8.45000000e+01  4.25000000e+01  2.35529412e+02\n",
      "   1.22903529e+02  7.43288000e+01  5.51096000e+01  2.01329560e+02]\n",
      " [ 1.40000000e+01  1.10000000e+02  4.40000000e+01  1.90992941e+02\n",
      "   1.17764706e+02  7.05016000e+01  5.39032000e+01  2.07830304e+02]\n",
      " [ 1.60000000e+01  1.28000000e+02  5.10000000e+01  1.41317647e+02\n",
      "   1.10484706e+02  6.96800000e+01  5.41008000e+01  2.06679063e+02]\n",
      " [ 6.00000000e+00  9.10000000e+01  3.30000000e+01  8.94348894e+01\n",
      "   7.78083538e+01  3.17998841e+01  4.07785507e+01  8.86087950e+01]\n",
      " [ 7.00000000e+00  8.75000000e+01  3.00000000e+01  1.14476658e+02\n",
      "   7.82555283e+01  3.15466667e+01  4.04778551e+01  9.00221851e+01]\n",
      " [ 7.00000000e+00  8.00000000e+01  3.00000000e+01  1.16265356e+02\n",
      "   7.19950860e+01  3.14517101e+01  4.03987246e+01  9.02717403e+01]\n",
      " [ 3.00000000e+00  6.80000000e+01  2.10000000e+01  6.66082474e+01\n",
      "   5.30051546e+01  1.48127778e+01  2.92817778e+01  4.43312154e+01]\n",
      " [ 3.00000000e+00  6.30000000e+01  2.00000000e+01  8.34948454e+01\n",
      "   5.91030928e+01  1.53790000e+01  2.95648889e+01  4.38936765e+01]\n",
      " [ 4.00000000e+00  6.40000000e+01  2.00000000e+01  8.53711340e+01\n",
      "   5.58195876e+01  1.55610000e+01  2.91756111e+01  4.41229878e+01]\n",
      " [ 2.00000000e+00  4.90000000e+01  1.30000000e+01  3.60849057e+01\n",
      "   3.34787736e+01  6.04340659e+00  1.73082418e+01  2.03275632e+01]\n",
      " [ 1.75000000e+00  5.15000000e+01  1.55000000e+01  3.60849057e+01\n",
      "   3.40801887e+01  6.07142857e+00  1.75184066e+01  1.88967704e+01]\n",
      " [ 1.50000000e+00  4.75000000e+01  1.30000000e+01  3.60849057e+01\n",
      "   3.35790094e+01  5.90329670e+00  1.72428571e+01  1.79529975e+01]\n",
      " [ 0.00000000e+00  2.90000000e+01  8.00000000e+00  1.66666667e+01\n",
      "   1.72916667e+01  2.29302326e+00  1.19691860e+01  9.60524120e+00]\n",
      " [ 1.00000000e+00  2.70000000e+01  8.00000000e+00  2.33333333e+01\n",
      "   1.79166667e+01  2.42151163e+00  1.18505814e+01  8.66533519e+00]\n",
      " [ 1.00000000e+00  2.60000000e+01  8.00000000e+00  1.50000000e+01\n",
      "   1.72916667e+01  2.52034884e+00  1.18851744e+01  8.94417692e+00]\n",
      " [ 0.00000000e+00  1.40000000e+01  4.00000000e+00  8.67346939e+00\n",
      "   7.80612245e+00  6.02906977e-01  6.45406977e+00  3.93205638e+00]\n",
      " [ 0.00000000e+00  1.30000000e+01  4.00000000e+00  8.67346939e+00\n",
      "   8.23979592e+00  8.00581395e-01  6.94331395e+00  3.79741065e+00]\n",
      " [ 0.00000000e+00  1.40000000e+01  4.00000000e+00  8.67346939e+00\n",
      "   7.37244898e+00  1.06744186e+00  6.57267442e+00  4.20084930e+00]\n",
      " [ 8.50000000e+00  8.50000000e+00  1.25000000e+01  1.60000000e+01\n",
      "   1.50000000e+00  8.66047826e+00  1.47866087e+01  1.00545957e+02]\n",
      " [ 8.50000000e+00  8.50000000e+00  1.25000000e+01  1.32500000e+01\n",
      "   2.00000000e+00  7.15734783e+00  1.34757391e+01  8.65678464e+01]\n",
      " [ 3.00000000e+00  4.00000000e+00  1.30000000e+01  1.05000000e+01\n",
      "   2.00000000e+00  7.92639130e+00  1.32616304e+01  1.15995926e+02]\n",
      " [ 2.50000000e+00  5.50000000e+00  9.50000000e+00  8.00000000e+00\n",
      "   1.50000000e+00  3.80193396e+00  7.34313679e+00  1.19542105e+01]\n",
      " [ 1.00000000e+00 -5.00000000e-01  8.00000000e+00  7.00000000e+00\n",
      "   1.25000000e+00  3.53646226e+00  7.10610849e+00  1.25681188e+01]\n",
      " [ 2.50000000e+00  5.00000000e-01  9.50000000e+00  1.00000000e+01\n",
      "   1.25000000e+00  3.63127358e+00  7.06344340e+00  1.18384824e+01]\n",
      " [ 5.00000000e-01  5.00000000e-01  5.50000000e+00  7.00000000e+00\n",
      "   1.75000000e+00  1.46181818e+00  3.39415909e+00  1.74192666e+00]\n",
      " [ 7.50000000e-01  1.25000000e+00  5.75000000e+00  7.00000000e+00\n",
      "   1.50000000e+00  1.86381818e+00  4.06568182e+00  2.80991285e+00]\n",
      " [ 1.50000000e+00  1.50000000e+00  6.00000000e+00  7.00000000e+00\n",
      "   1.75000000e+00  1.71763636e+00  3.85554545e+00  3.02606676e+00]\n",
      " [ 1.00000000e+00  5.00000000e-01  4.00000000e+00  3.00000000e+00\n",
      "   1.00000000e+00  5.23333333e-01  1.73746667e+00  1.41000000e+00]\n",
      " [ 1.50000000e+00  1.00000000e+00  4.50000000e+00  3.00000000e+00\n",
      "   1.00000000e+00  5.58222222e-01  1.61884444e+00  1.48000000e+00]\n",
      " [ 1.00000000e+00  0.00000000e+00  3.80000000e+00  2.00000000e+00\n",
      "   1.00000000e+00  4.53555556e-01  1.72351111e+00  1.30000000e+00]\n",
      " [ 5.00000000e-01  0.00000000e+00  2.00000000e+00  0.00000000e+00\n",
      "   5.00000000e-01  8.79538905e-02  8.53152738e-01  6.50000000e-01]\n",
      " [ 5.00000000e-01  0.00000000e+00  2.00000000e+00  0.00000000e+00\n",
      "   5.00000000e-01  1.58317003e-01  9.14720461e-01  5.50000000e-01]\n",
      " [ 5.00000000e-01  0.00000000e+00  2.00000000e+00  0.00000000e+00\n",
      "   0.00000000e+00  2.81452450e-01  1.02906052e+00  6.90000000e-01]\n",
      " [ 0.00000000e+00  0.00000000e+00  5.00000000e-01  0.00000000e+00\n",
      "   0.00000000e+00  1.04666667e-01  8.02444444e-02  3.00000000e-01]\n",
      " [ 0.00000000e+00  0.00000000e+00  1.00000000e+00  0.00000000e+00\n",
      "   0.00000000e+00  1.53511111e-01  3.62844444e-01  3.30000000e-01]\n",
      " [ 0.00000000e+00  0.00000000e+00  1.50000000e+00  0.00000000e+00\n",
      "   0.00000000e+00  6.97777778e-02  3.66333333e-01  2.80000000e-01]\n",
      " [ 3.20000000e+00  1.60000000e+01  2.05000000e+01 -3.00000000e+00\n",
      "   9.75000000e+00  6.79430769e+01  3.66046154e+01  3.31470588e+01]\n",
      " [ 2.70000000e+00  1.65000000e+01  2.02000000e+01 -3.00000000e+00\n",
      "   7.00000000e+00  6.22676923e+01  2.94376923e+01  3.03388430e+01]\n",
      " [ 2.20000000e+00  1.44000000e+01  2.04000000e+01 -3.00000000e+00\n",
      "   6.62500000e+00  6.20523077e+01  2.94484615e+01  2.51009036e+01]\n",
      " [ 1.85000000e+00  6.05000000e+00  1.45000000e+01 -1.50000000e+00\n",
      "   3.12500000e+00  4.50240000e+01  3.80352000e+01  5.43598055e+00]\n",
      " [ 1.30000000e+00  6.20000000e+00  1.42000000e+01 -1.50000000e+00\n",
      "   3.12500000e+00  4.42176000e+01  3.77280000e+01  6.05000000e+00]\n",
      " [ 2.00000000e+00  6.00000000e+00  1.37000000e+01 -1.50000000e+00\n",
      "   3.25000000e+00  4.42176000e+01  3.79392000e+01  6.27411168e+00]\n",
      " [ 1.10000000e+00  3.45000000e+00  9.80000000e+00 -7.50000000e-01\n",
      "   1.75000000e+00  2.08360417e+01  2.99665625e+01  0.00000000e+00]\n",
      " [ 8.00000000e-01  3.40000000e+00  9.30000000e+00 -1.00000000e+00\n",
      "   1.75000000e+00  2.14797917e+01  3.09429167e+01  0.00000000e+00]\n",
      " [ 7.00000000e-01  3.85000000e+00  9.60000000e+00 -1.00000000e+00\n",
      "   1.87500000e+00  2.18875000e+01  3.00953125e+01  0.00000000e+00]\n",
      " [ 4.16000000e-01  7.90400000e+00  1.85120000e+01 -5.00000000e-01\n",
      "   2.65000000e+00  2.88926444e+01  4.15536333e+01  2.08714777e+00]\n",
      " [ 4.16000000e-01  5.61600000e+00  1.58080000e+01 -5.00000000e-01\n",
      "   1.62500000e+00  2.97853111e+01  4.29075111e+01  4.61773463e+00]\n",
      " [ 4.16000000e-01  5.40800000e+00  1.49760000e+01 -5.00000000e-01\n",
      "   2.30000000e+00  3.03506667e+01  4.17321667e+01  1.76707965e+00]\n",
      " [ 1.92000000e-01  1.72800000e+00  8.64000000e+00 -2.50000000e-01\n",
      "   1.30000000e+00  5.78560000e+00  1.42144000e+01  0.00000000e+00]\n",
      " [ 1.92000000e-01  3.07200000e+00  9.12000000e+00 -2.50000000e-01\n",
      "   1.30000000e+00  4.78720000e+00  1.12192000e+01  0.00000000e+00]\n",
      " [ 1.92000000e-01  2.49600000e+00  8.73600000e+00 -2.50000000e-01\n",
      "   1.12500000e+00  5.06880000e+00  1.20448000e+01  0.00000000e+00]\n",
      " [ 0.00000000e+00  1.28750000e+00  5.57916667e+00  0.00000000e+00\n",
      "   6.50000000e-01  1.84541667e+00  6.69500000e+00  0.00000000e+00]\n",
      " [ 0.00000000e+00  1.07291667e+00  4.93541667e+00  0.00000000e+00\n",
      "   8.00000000e-01  2.28888889e+00  7.02402778e+00  0.00000000e+00]\n",
      " [ 0.00000000e+00  1.71666667e+00  6.43750000e+00  0.00000000e+00\n",
      "   8.00000000e-01  1.94555556e+00  7.06694444e+00  0.00000000e+00]]\n"
     ]
    },
    {
     "name": "stderr",
     "output_type": "stream",
     "text": [
      "D:\\Anaconda\\lib\\site-packages\\ipykernel_launcher.py:6: FutureWarning: Method .as_matrix will be removed in a future version. Use .values instead.\n",
      "  \n"
     ]
    }
   ],
   "source": [
    "import pandas\n",
    "from pandas import DataFrame\n",
    "import numpy\n",
    "data = pandas.read_excel(\"Data/Nanonose.xls\")\n",
    "data = data.drop(columns=['Sample type', 'Concentration'])\n",
    "data = pandas.DataFrame.as_matrix(data)\n",
    "print(data)"
   ]
  },
  {
   "cell_type": "markdown",
   "metadata": {},
   "source": [
    "> b. (0.3 points) The data resides in what can be seen as an 8-dimensional space. Each dimension (column), corresponds to one of the 8 NanoNose sensors. Multidimensional (>3) data is hard to visualize, as we are unable to plot that many dimensions simultaneously.\n",
    "\n",
    "> Using the matplotlib library, plot the attributes A and B against each other. After you have plotted A against B, also plot a few other combinations of attributes. Plot at least 4 different combinations. \n",
    "\n",
    "> *Do not forget to label your axes and add a figure description!*\n",
    "\n",
    "> NOTE: If you want to plot inside the Jupyter notebook use the following command after you imported the library: \n",
    "*%matplotlib inline* "
   ]
  },
  {
   "cell_type": "code",
   "execution_count": 22,
   "metadata": {},
   "outputs": [
    {
     "data": {
      "image/png": "[encoded data removed]",
      "text/plain": [
       "<Figure size 432x288 with 1 Axes>"
      ]
     },
     "metadata": {},
     "output_type": "display_data"
    },
    {
     "name": "stdout",
     "output_type": "stream",
     "text": [
      "Plot of attribute A against B\n"
     ]
    },
    {
     "data": {
      "image/png": "[encoded data removed]",
      "text/plain": [
       "<Figure size 432x288 with 1 Axes>"
      ]
     },
     "metadata": {},
     "output_type": "display_data"
    },
    {
     "name": "stdout",
     "output_type": "stream",
     "text": [
      "Plot of attribute A against C\n"
     ]
    },
    {
     "data": {
      "image/png": "[encoded data removed]",
      "text/plain": [
       "<Figure size 432x288 with 1 Axes>"
      ]
     },
     "metadata": {},
     "output_type": "display_data"
    },
    {
     "name": "stdout",
     "output_type": "stream",
     "text": [
      "Plot of attribute B against D\n"
     ]
    },
    {
     "data": {
      "image/png": "[encoded data removed]",
      "text/plain": [
       "<Figure size 432x288 with 1 Axes>"
      ]
     },
     "metadata": {},
     "output_type": "display_data"
    },
    {
     "name": "stdout",
     "output_type": "stream",
     "text": [
      "Plot of attribute C against D\n"
     ]
    }
   ],
   "source": [
    "import matplotlib\n",
    "from matplotlib import pyplot as plt\n",
    "A = data[:,0]\n",
    "B = data[:,1]\n",
    "C = data[:,2]\n",
    "D = data[:,3]\n",
    "\n",
    "plt.scatter(A, B)\n",
    "plt.xlabel(\"A\")\n",
    "plt.ylabel(\"B\")\n",
    "plt.show()\n",
    "print(\"Plot of attribute A against B\")\n",
    "\n",
    "plt.scatter(A, C)\n",
    "plt.xlabel(\"A\")\n",
    "plt.ylabel(\"C\")\n",
    "plt.show()\n",
    "print(\"Plot of attribute A against C\")\n",
    "\n",
    "plt.scatter(B, D)\n",
    "plt.xlabel(\"B\")\n",
    "plt.ylabel(\"D\")\n",
    "plt.show()\n",
    "print(\"Plot of attribute B against D\")\n",
    "\n",
    "plt.scatter(C, D)\n",
    "plt.xlabel(\"C\")\n",
    "plt.ylabel(\"D\")\n",
    "plt.show()\n",
    "print(\"Plot of attribute C against D\")\n",
    "\n"
   ]
  },
  {
   "cell_type": "markdown",
   "metadata": {},
   "source": [
    "\n",
    "1.2.2 Principal Component Analysis, more commonly known as PCA, can be cleverly used to better visualize high dimensional data. \n",
    "\n",
    "> a. (1 point) Explain what PCA is and when it can be used. Make sure to provide an in-depth explanation and note what the drawbacks and limitations are."
   ]
  },
  {
   "cell_type": "markdown",
   "metadata": {},
   "source": [
    "PCA is just removing data which you think matters less. You do this based on variance in data: data which doesn't vary a lot from the mean can more easily be replaced by a single value. The big drawback is of course that that data might be the data you're actually looking for, but overall PCA does help simplifying data so you can focus on a few attributes instead of a lot."
   ]
  },
  {
   "cell_type": "markdown",
   "metadata": {},
   "source": [
    "To apply PCA we must first mean center the data. mean centering means that the mean value for an attribute is subtracted from that attribute. \n",
    "\n",
    "> b. (0.5 points) Why do we first need to mean center the data before applying PCA?"
   ]
  },
  {
   "cell_type": "markdown",
   "metadata": {},
   "source": [
    "After mean-centering we can see for which attribute the data varies least so we can remove that per iteration."
   ]
  },
  {
   "cell_type": "markdown",
   "metadata": {},
   "source": [
    "In practice, applying PCA comes down to a series of matrix operations, this is useful, as matrix operations can be applied with little effort and can be computed in relatively little time.\n",
    "\n",
    "The given data **X**, must first be mean centered. This can be easily done by calculating a row vector **μ** containing the mean values of each attribute and then subtracting it from **X** (**Y** = **X** - **1μ**, where **1** is a column vector of size **N** x 1, with N indicating the number of observations in the original data).\n",
    "\n",
    "Then, the Singular Value Decomposition, or SVD, of **Y**, the mean centered data, can be calculated. **Y** = **USV**<sup>T</sup>. In practice, this is often done using the numpy.linalg.svd() function.\n",
    "\n",
    "Using SVD on **Y** yields a series of vectors which can be used to project the data onto specific Principal Components (PCs). The entire dataset can be projected onto the Principal Components by multiplying **Z** = **Y\\*V**, where **Z** indicates the projected data. Alternatively, one could project onto just a subset of all the PCs by indexing in the multiplication. For example: **Z** = **Y\\*V[:,1]** would yield the projection of the data onto the first PC.\n",
    "\n",
    "> c. (1 point)  Apply PCA (using the aforementioned method) on the Nanonose data and visualize a scatterplot of the projection of the data onto the first two PCs."
   ]
  },
  {
   "cell_type": "code",
   "execution_count": 20,
   "metadata": {},
   "outputs": [
    {
     "name": "stdout",
     "output_type": "stream",
     "text": [
      "[[ 1.18957150e+01 -3.88230238e+01 -8.32182632e+01 -1.57953160e+01\n",
      "  -2.74620009e+00  1.40558652e+01 -1.16885167e+00 -7.29898625e-02]\n",
      " [ 6.11673547e+00 -3.57763246e+01 -8.52877149e+01 -1.66775469e+01\n",
      "  -4.15506538e+00  1.03291370e+01 -2.25420298e+00  7.44484049e-02]\n",
      " [ 7.77363970e+00 -3.66560158e+01 -8.16423281e+01 -1.43401537e+01\n",
      "   8.08554797e-02  1.04270823e+01 -2.46555734e+00 -1.98392819e+00]\n",
      " [-1.60696147e+01 -8.83956977e+00 -5.00645242e+01 -1.05337870e+00\n",
      "   6.37501333e-01  2.57257004e+00 -1.49047307e+00 -1.65529904e-01]\n",
      " [-1.59152999e+01 -8.01510254e+00 -4.78668645e+01 -1.92379714e-01\n",
      "   1.45393251e+00  2.64549615e+00 -1.26648535e+00 -2.60197491e-01]\n",
      " [-1.64466789e+01 -7.43342816e+00 -4.70611203e+01 -3.74759154e-01\n",
      "   5.29698165e-01  2.47311439e+00 -1.02973747e+00 -3.69507711e-01]\n",
      " [-2.73253981e+01  7.62231996e+00 -2.76505521e+01  5.36572951e+00\n",
      "   2.38422347e+00 -1.37547185e+00  7.98075703e-01 -8.30044770e-01]\n",
      " [-2.76314582e+01  8.15162104e+00 -2.72473093e+01  5.42057566e+00\n",
      "   2.19745675e+00 -3.84649573e-01  7.10927767e-01 -9.82759060e-01]\n",
      " [-2.72353500e+01  8.06968059e+00 -2.68137601e+01  5.83753990e+00\n",
      "   3.03020637e+00 -8.13489826e-01  7.49343341e-01 -8.94711295e-01]\n",
      " [-3.31826764e+01  1.63198233e+01 -1.54160508e+01  8.41482166e+00\n",
      "   3.92230309e+00 -4.18335234e+00  1.74255351e+00 -2.18734551e+00]\n",
      " [-3.20854800e+01  1.57486388e+01 -1.48529165e+01  8.85549203e+00\n",
      "   3.83204853e+00 -4.47931188e+00  1.83341049e+00 -1.77159929e+00]\n",
      " [-3.28754313e+01  1.66537732e+01 -1.47793387e+01  9.56021299e+00\n",
      "   3.81348913e+00 -3.05892481e+00  2.01678875e+00 -1.99584149e+00]\n",
      " [-3.77277725e+01  2.29052473e+01 -7.05977482e+00  9.42970323e+00\n",
      "   4.06961683e+00 -4.57492328e+00  3.01733826e+00 -2.39808019e+00]\n",
      " [-3.70352712e+01  2.22944507e+01 -6.90124650e+00  9.95385311e+00\n",
      "   3.98980147e+00 -5.52520972e+00  2.98197385e+00 -2.30368050e+00]\n",
      " [-3.68840597e+01  2.22918854e+01 -6.65487945e+00  1.02164933e+01\n",
      "   4.41337827e+00 -5.77256282e+00  2.93605866e+00 -2.24653011e+00]\n",
      " [-3.90975578e+01  2.45987958e+01 -4.77453529e+00  1.01655992e+01\n",
      "   4.24733330e+00 -5.73517712e+00  3.31624181e+00 -2.21421547e+00]\n",
      " [-3.90553691e+01  2.44935358e+01 -4.87275685e+00  1.03604384e+01\n",
      "   4.16834007e+00 -5.88808141e+00  3.26991046e+00 -2.16202876e+00]\n",
      " [-3.88215230e+01  2.43545220e+01 -4.72337587e+00  9.82190826e+00\n",
      "   4.15222961e+00 -5.93747697e+00  3.08224113e+00 -2.30915469e+00]\n",
      " [ 1.37265594e+02 -6.01697016e+01 -8.97270001e+00 -2.55999854e+01\n",
      "   4.97994062e+00 -3.54734771e+01  3.65436682e+00 -9.66027236e-01]\n",
      " [ 1.59662381e+02 -6.64651617e+01  1.12337361e+00 -1.04843630e+01\n",
      "   1.70783855e+01 -2.11754859e+01  2.21351902e+00  1.84077434e+00]\n",
      " [ 1.71646734e+02 -6.83120472e+01  7.90938205e+00 -2.01444367e+00\n",
      "   2.73756220e+01 -1.47913977e+01  1.34958759e+00  1.10088512e+00]\n",
      " [ 7.65525048e+01 -3.50153061e+01 -1.13856842e+00 -2.60477041e+00\n",
      "  -1.36729197e+01 -1.76454904e+01 -3.77381016e+00  5.32509533e-01]\n",
      " [ 7.17420978e+01 -3.32011645e+01 -2.83844217e+00 -5.61932156e+00\n",
      "  -1.86337620e+01 -1.87510954e+01 -2.76585531e+00  1.18219512e+00]\n",
      " [ 6.76583998e+01 -3.02191944e+01 -2.99008442e+00 -4.04611051e+00\n",
      "  -1.85885269e+01 -1.77924836e+01 -3.16240119e+00 -7.45689802e-01]\n",
      " [ 2.81994974e+01 -1.44307911e+01 -4.13234491e+00  1.94587318e+00\n",
      "  -1.82633586e+01 -1.96252798e+01 -4.31690427e+00  9.81778150e-02]\n",
      " [ 2.79046658e+01 -1.29882326e+01 -3.44745376e+00  2.23392658e+00\n",
      "  -1.53790636e+01 -1.83784831e+01 -4.69335133e+00 -8.97600917e-01]\n",
      " [ 2.47931818e+01 -1.21963240e+01 -4.95306810e+00  9.58406107e-01\n",
      "  -1.61386238e+01 -1.72979605e+01 -4.33097690e+00 -6.92096854e-01]\n",
      " [-1.49229337e+00  2.16450288e+00 -4.89342597e+00  4.80047596e+00\n",
      "  -1.49554400e+01 -1.17619339e+01 -2.51845738e+00 -5.65868630e-01]\n",
      " [-1.83387715e+00  1.37997386e+00 -4.80157121e+00  4.63825093e+00\n",
      "  -1.50649222e+01 -1.08838528e+01 -2.04395364e+00  1.79259642e-01]\n",
      " [-1.58120374e+00  1.52028006e+00 -5.37040864e+00  5.62892831e+00\n",
      "  -1.51744062e+01 -1.19107361e+01 -1.92122683e+00  1.02489358e-01]\n",
      " [-1.96031434e+01  1.29573266e+01 -3.38662388e+00  6.41569373e+00\n",
      "  -8.03088344e+00 -1.24553085e+01 -1.52116403e+00 -2.31423434e+00]\n",
      " [-1.93544482e+01  1.26834828e+01 -3.88694747e+00  6.69431929e+00\n",
      "  -8.39516642e+00 -1.22120205e+01 -1.41752801e+00 -2.49794991e+00]\n",
      " [-1.98753566e+01  1.29904321e+01 -4.01542268e+00  6.39554217e+00\n",
      "  -7.83706920e+00 -1.24980627e+01 -1.57684963e+00 -2.18072361e+00]\n",
      " [-2.94496355e+01  1.90924970e+01 -3.33038358e+00  8.54501471e+00\n",
      "  -1.94898010e+00 -9.83227693e+00  1.62738472e-01 -2.51364100e+00]\n",
      " [-2.92520959e+01  1.87028786e+01 -3.19381144e+00  8.12244930e+00\n",
      "  -2.02599682e+00 -9.86924638e+00  3.92010474e-01 -2.61895256e+00]\n",
      " [-2.87069798e+01  1.88010777e+01 -3.30944569e+00  8.51526179e+00\n",
      "  -1.69573415e+00 -1.00505083e+01  2.46265870e-01 -2.25294324e+00]\n",
      " [ 3.14659875e+02  5.10578474e+01 -2.30079345e+00  1.15974602e+01\n",
      "   5.44374564e+01  9.61305221e-01 -6.39119191e+00 -2.45485448e+00]\n",
      " [ 2.97945754e+02  6.37340037e+01 -9.58190687e+00  2.75983251e+00\n",
      "   9.06554344e+00  3.39135623e+00  2.94682941e+00 -2.82621252e+00]\n",
      " [ 2.72345362e+02  7.24617274e+01 -1.79395008e+01 -1.32277966e+01\n",
      "  -3.27374019e+01  6.19296933e+00  1.04036287e+01  2.80643037e+00]\n",
      " [ 1.40797525e+02  1.92101125e+01  4.43952514e+00  5.21187329e+00\n",
      "  -2.85521742e+01  7.54247578e+00  2.31110957e-01  1.66156381e+00]\n",
      " [ 1.54658129e+02  1.60691680e+01  8.38329663e+00  1.42180279e+01\n",
      "  -1.06597042e+01  1.17261225e+01 -2.12750174e+00 -1.47529880e+00]\n",
      " [ 1.50541698e+02  2.03830727e+01  8.82697415e+00  1.37677915e+01\n",
      "  -3.05057802e+00  1.25773128e+01 -3.99301708e+00 -6.61469031e-01]\n",
      " [ 7.88040774e+01  8.02646379e+00  9.77132883e+00  1.52280473e+01\n",
      "  -1.92207483e+01  9.77179740e+00 -1.37631224e+00 -1.14080459e+00]\n",
      " [ 8.93148127e+01  2.09435489e+00  1.20194655e+01  2.01951536e+01\n",
      "  -6.51623586e+00  7.71701437e+00 -4.10231474e+00 -1.83696982e+00]\n",
      " [ 8.94800963e+01  3.38291323e+00  1.24390594e+01  2.08244642e+01\n",
      "  -5.16343527e+00  1.11646439e+01 -3.40429499e+00 -2.11241077e+00]\n",
      " [ 2.88297368e+01  9.10688156e+00  6.01357178e+00  1.55700656e+01\n",
      "  -1.83316524e+01  6.56808520e+00  1.98028375e+00 -1.62656835e+00]\n",
      " [ 2.95390979e+01  7.42465474e+00  7.33958570e+00  1.54854994e+01\n",
      "  -2.03225310e+01  7.82356829e+00  2.47127599e+00  4.07361165e-01]\n",
      " [ 2.70457792e+01  7.56396174e+00  6.84904127e+00  1.56263064e+01\n",
      "  -1.71960551e+01  5.93574481e+00  1.62233089e+00 -1.32545202e+00]\n",
      " [-4.21565379e+00  1.65154216e+01  3.62826637e+00  1.22267360e+01\n",
      "  -1.19189945e+01  2.06895059e+00  1.26467121e+00 -1.66097338e+00]\n",
      " [-1.21068774e+00  1.43390821e+01  4.31996978e+00  1.41329393e+01\n",
      "  -6.34821659e+00  3.02402187e+00  3.11456871e-01 -1.53297178e+00]\n",
      " [-6.49838801e+00  1.64123706e+01  2.09408863e+00  1.09296660e+01\n",
      "  -1.06344845e+01  8.15210383e-01  5.36271678e-01 -1.14761640e+00]\n",
      " [-2.27746767e+01  2.08911000e+01  6.52653755e-01  1.16511103e+01\n",
      "  -3.18839262e+00 -1.25732438e+00  1.71098299e+00 -1.92281541e+00]\n",
      " [-2.28900302e+01  2.06532010e+01  5.87106172e-01  1.11449384e+01\n",
      "  -2.60408487e+00 -1.92236959e+00  1.10367547e+00 -1.88152076e+00]\n",
      " [-2.27071954e+01  2.12972794e+01  7.54378485e-01  1.12236827e+01\n",
      "  -3.02854609e+00 -1.01094434e+00  1.88352010e+00 -2.03043143e+00]\n",
      " [ 3.22282726e+01  9.48827547e+01 -2.99962427e+01 -1.65014822e+00\n",
      "  -5.80171258e-01 -7.81633231e+00 -5.85451916e+00  1.73351537e+00]\n",
      " [ 2.29547566e+01  8.45199924e+01 -2.69442811e+01 -5.25368652e-01\n",
      "  -1.37655567e+00 -6.66195359e+00 -5.18120619e+00  2.62410643e+00]\n",
      " [ 3.53440996e+01  1.09364193e+02 -3.32003290e+01 -2.60564997e+00\n",
      "  -2.79729454e+00 -1.70645314e+01 -5.76627617e+00  3.06159466e+00]\n",
      " [-2.29816543e+01  3.08455102e+01 -2.79741624e+00  5.72260580e+00\n",
      "   3.42865503e+00 -7.46724522e-01 -1.23073662e-01  3.62306996e+00]\n",
      " [-2.57451180e+01  3.27807140e+01 -3.30720694e+00  5.27080411e+00\n",
      "   6.90290431e+00 -4.73771051e+00 -1.53228950e+00  3.13725293e+00]\n",
      " [-2.37831851e+01  3.12213451e+01 -3.15731944e+00  5.96569887e+00\n",
      "   8.18368656e+00 -2.47329853e+00 -1.56556537e+00  4.35706826e+00]\n",
      " [-3.22278791e+01  2.44427431e+01 -1.03001493e+00  9.44324966e+00\n",
      "   7.20061447e+00 -3.81973015e+00  9.92187969e-01  1.87551109e+00]\n",
      " [-3.12884235e+01  2.51961964e+01 -1.11472842e+00  8.82984319e+00\n",
      "   6.64870725e+00 -3.24048161e+00  8.46052232e-01  1.78638946e+00]\n",
      " [-3.09837322e+01  2.50231072e+01 -1.84405231e+00  8.91763188e+00\n",
      "   6.46375367e+00 -2.94709003e+00  8.79259756e-01  2.06646598e+00]\n",
      " [-3.56660583e+01  2.52473461e+01 -2.94722491e+00  9.66417942e+00\n",
      "   5.13678436e+00 -4.44706988e+00  2.09818021e+00  1.02174086e+00]\n",
      " [-3.53863989e+01  2.51148108e+01 -3.25141109e+00  9.60253774e+00\n",
      "   4.82548664e+00 -3.93064383e+00  2.26847023e+00  1.45241904e+00]\n",
      " [-3.65196726e+01  2.53999122e+01 -3.29142404e+00  9.33409994e+00\n",
      "   4.88100507e+00 -4.94330908e+00  1.99169449e+00  9.52538757e-01]\n",
      " [-3.86948046e+01  2.56745132e+01 -3.59675930e+00  9.67898735e+00\n",
      "   3.94553068e+00 -5.60021127e+00  2.79712422e+00 -4.89527930e-01]\n",
      " [-3.87241715e+01  2.55914159e+01 -3.53932141e+00  9.59921106e+00\n",
      "   3.96081690e+00 -5.57563223e+00  2.78734409e+00 -5.08948406e-01]\n",
      " [-3.88219492e+01  2.59622372e+01 -3.42507446e+00  9.44070101e+00\n",
      "   4.06833888e+00 -5.26394650e+00  2.79425377e+00 -5.70856013e-01]\n",
      " [-3.94181308e+01  2.58132171e+01 -3.37498069e+00  1.03347779e+01\n",
      "   4.26084091e+00 -5.75672830e+00  3.59264851e+00 -1.79018273e+00]\n",
      " [-3.92854056e+01  2.58288929e+01 -3.23673139e+00  1.00873095e+01\n",
      "   4.18925842e+00 -5.66190270e+00  3.37119416e+00 -1.37572483e+00]\n",
      " [-3.92641543e+01  2.57989571e+01 -3.16758546e+00  1.00696214e+01\n",
      "   4.13468304e+00 -5.59050918e+00  3.30216070e+00 -8.85581467e-01]\n",
      " [ 7.67661803e+00  3.73340466e+01  4.52840761e+00 -6.18353606e+01\n",
      "  -4.53268005e+00 -2.06309052e+00  1.21122930e+01 -1.44274731e+00]\n",
      " [ 2.90178812e+00  3.73354830e+01  3.77796712e+00 -5.40027852e+01\n",
      "  -4.33736328e+00 -8.09456038e-01  1.52931057e+01  3.39002975e-01]\n",
      " [-7.82782539e-01  3.39470498e+01  5.55747904e+00 -5.39807605e+01\n",
      "  -2.49241142e+00 -9.08451122e-01  1.47455911e+01  9.59512898e-01]\n",
      " [-1.75238035e+01  2.28841520e+01  1.13557911e+01 -4.38401735e+01\n",
      "   1.87275383e+00  1.37624989e+00 -2.35688595e+00 -2.74033480e+00]\n",
      " [-1.74138836e+01  2.35371877e+01  1.14077616e+01 -4.29370738e+01\n",
      "   1.54261636e+00  1.00133035e+00 -2.41698572e+00 -2.90366624e+00]\n",
      " [-1.73171746e+01  2.34871334e+01  1.07082378e+01 -4.30874810e+01\n",
      "   1.72078811e+00  1.09819467e+00 -2.72138591e+00 -3.38621695e+00]\n",
      " [-2.81354020e+01  2.18911644e+01  7.91899210e+00 -2.05660152e+01\n",
      "   8.24436603e-01  2.17261846e-01 -8.80274042e+00 -2.03719530e+00]\n",
      " [-2.80947009e+01  2.19430684e+01  8.37734241e+00 -2.14707115e+01\n",
      "   7.16616647e-01  4.93578005e-02 -9.17545164e+00 -2.78622126e+00]\n",
      " [-2.79000114e+01  2.18264353e+01  8.35765174e+00 -2.13750480e+01\n",
      "   5.59915722e-01  5.48074403e-02 -8.17589025e+00 -2.44266699e+00]\n",
      " [-2.04990041e+01  2.17333386e+01  1.37629843e+01 -3.26420841e+01\n",
      "  -3.08057092e+00  3.72787377e+00 -1.28717187e+01  2.22301922e+00]\n",
      " [-2.03471997e+01  2.44225066e+01  1.29465762e+01 -3.39038452e+01\n",
      "  -1.26512331e+00  2.71810043e+00 -1.40039034e+01 -5.19302245e-01]\n",
      " [-2.18096999e+01  2.18726211e+01  1.32966432e+01 -3.36297420e+01\n",
      "  -6.67005936e-01  2.39830328e+00 -1.27962931e+01 -1.03074027e+00]\n",
      " [-3.42270297e+01  2.39622259e+01  2.18258418e+00 -1.58181349e+00\n",
      "   1.27616595e+00 -2.80890930e+00 -4.54847275e+00  2.21370917e+00]\n",
      " [-3.43611754e+01  2.39252755e+01  1.51384484e+00  6.48766414e-01\n",
      "   5.16200692e-01 -2.50887889e+00 -2.33622571e+00  3.21425890e+00]\n",
      " [-3.45006311e+01  2.40568745e+01  1.67094422e+00  3.78286654e-02\n",
      "   9.26874799e-01 -2.60824779e+00 -2.97896782e+00  2.71985547e+00]\n",
      " [-3.68468250e+01  2.48189630e+01 -5.01385584e-01  5.38995164e+00\n",
      "   2.28989966e+00 -4.00191011e+00 -6.05641692e-01  1.34902810e+00]\n",
      " [-3.67997898e+01  2.47208651e+01 -5.06092061e-01  4.97597319e+00\n",
      "   2.50975637e+00 -4.23799732e+00 -6.78253287e-01  6.45249327e-01]\n",
      " [-3.64484561e+01  2.46695312e+01 -2.36817206e-01  5.06879643e+00\n",
      "   1.86183952e+00 -3.73837902e+00 -7.70762220e-01  2.02554630e+00]]\n"
     ]
    }
   ],
   "source": [
    "X = matrix.copy()\n",
    "X = np.delete(X, [0,1], 1)\n",
    "X = X.astype(float)\n",
    "\n",
    "mu = np.empty(8)\n",
    "for i in range(0, 7):\n",
    "    mu[i] = np.mean(X[:,i])\n",
    "\n",
    "##T is what 1mu is in the text above; I couldn't figure out how to multiple the column and row vectors so I used this method\n",
    "T = np.tile(mu, (90, 1))\n",
    "Y = X - T\n",
    "\n",
    "U, S, V = np.linalg.svd(Y) ##V is V^T here: we need to use the transpose of this to get the actual V\n",
    "Z = np.matmul(Y, V.transpose())\n",
    "\n",
    "print(Z)"
   ]
  },
  {
   "cell_type": "markdown",
   "metadata": {},
   "source": [
    "> d. (1 point) Alternatively, one could use EigenValue Decomposition, EVD, instead of SVD. What are the similarities and differences between SVD and EVD? Can both be applied in each case?"
   ]
  },
  {
   "cell_type": "markdown",
   "metadata": {},
   "source": [
    "SVD is decomposition on the 'original' data matrix while EVD is decomposition on the cosine similarity matrix. Both can be applied but for EVD you will need to first calculate the cosine similarity matrix and then get the normalized eigenvalues/eigenvectors"
   ]
  },
  {
   "cell_type": "markdown",
   "metadata": {},
   "source": [
    "PCA attempts to explain as much of the variance in data with as few PCs as possible. The variance explained by each of the PCs **m** can be calculated using the following formula: \n",
    "$\\rho_m = 1 - \\frac{\\|{Y} - {u}_m s_{mm} {v}_m^T\\|^2_F}{\\|{Y}\\|^2_F} = \\frac{s_{mm}^2}{\\displaystyle \\sum_{m'=1}^M s^2_{m'm'}}$\n",
    "\n",
    "Which indicates that the variation $\\rho$ for a given **m** can be calculated by dividing the squared singular value of component **m** by the sum of all squared singular values. \n",
    "> e. (1 point) Calculate the row vector $\\rho$ containing all values of $\\rho$ for all PCs **m**. Create a bar plot with the variance explained on the Y axis and the number of the PC on the X axis. "
   ]
  },
  {
   "cell_type": "code",
   "execution_count": 41,
   "metadata": {},
   "outputs": [
    {
     "name": "stdout",
     "output_type": "stream",
     "text": [
      "[2.79559470e+00 5.21960852e-01 2.05296545e-01 1.54758680e-01\n",
      " 6.31965138e-02 4.15862421e-02 1.14102063e-02 4.41250000e+01]\n"
     ]
    },
    {
     "data": {
      "image/png": "[encoded data removed]",
      "text/plain": [
       "<Figure size 432x288 with 1 Axes>"
      ]
     },
     "metadata": {},
     "output_type": "display_data"
    }
   ],
   "source": [
    "p = np.empty(8)\n",
    "for i in range(0, 7):\n",
    "    top = S[i] * S[i]\n",
    "    bottom = 0\n",
    "    for j in range (1, 8):\n",
    "        bottom = bottom + S[j] * S[j]\n",
    "    p[i] = top / bottom\n",
    "pyplot.bar(np.arange(len(p)), p)\n",
    "pyplot.ylabel('Variance')\n",
    "pca_nrs = [2, 3, 4, 5, 6, 7, 8, 1] ##can you hardcode this?\n",
    "pyplot.xticks(np.arange(len(p)), pca_nrs)\n",
    "pyplot.xlabel('PC number')\n",
    "print(p)"
   ]
  },
  {
   "cell_type": "markdown",
   "metadata": {},
   "source": [
    "> f. (0.5 points) How much of the variance is explained by the first three PCs?"
   ]
  },
  {
   "cell_type": "code",
   "execution_count": 42,
   "metadata": {},
   "outputs": [
    {
     "name": "stdout",
     "output_type": "stream",
     "text": [
      "47.442555547675866\n"
     ]
    }
   ],
   "source": [
    "print(p[7] + p[0] + p[1])"
   ]
  },
  {
   "cell_type": "markdown",
   "metadata": {},
   "source": [
    "47.442555547675866"
   ]
  },
  {
   "cell_type": "markdown",
   "metadata": {},
   "source": [
    "The columns of **V** indicate the exact projection of the data onto the PCs. In a way, a PC is nothing other than a linear combination of the original attributes. \n",
    "> g. (0.5 points) Which attributes are primarily represented by the first PC? What would cause an observation to have a large negative/positive projection onto the second principal component?"
   ]
  },
  {
   "cell_type": "code",
   "execution_count": null,
   "metadata": {},
   "outputs": [],
   "source": []
  },
  {
   "cell_type": "markdown",
   "metadata": {},
   "source": [
    "The first PC represents the attributes with the least amount of variance because they're the closest to a single center-point. This means that when you replace them with that one center-point at the mean, you will lose the least amount of information while still gaining a dimension. If these projections are large positive/negative, that means that the even the first principal component has a lot of variance and the chance of losing valuable information is a lot higher."
   ]
  },
  {
   "cell_type": "markdown",
   "metadata": {},
   "source": [
    "## 1.3 Similarity measures\n",
    "\n",
    "We will use a subset of the data on wild faces described by Berg in 2005 transformed to a total\n",
    "of 1000 gray scale images of size 40x40 pixels, we will attempt to find faces in the\n",
    "data base that are the most similar to a given query face. To measure similarity we\n",
    "will consider the following measures: SMC, Jaccard, Cosine, ExtendedJaccard, and\n",
    "Correlation. These measures of similarity are described in *Introduction to Data Mining*, page 73-77 and are given by\n",
    "\n",
    "\\begin{eqnarray*}\n",
    "\\textrm{SMC}({x},{y}) & = & \\frac{\\textrm{Number of matching attribute values}}{\\textrm{Number of attributes}} \\\\\n",
    "\\textrm{Jaccard}({x},{y}) & = & \\frac{\\textrm{Number of matching presences}}{\\textrm{Number of attributes not involved in 00 matches}} \\\\\n",
    "\\textrm{Cosine}({x},{y}) & = & \\frac{{x}^T {y}}{\\|{x}\\| \\|{y}\\|} \\\\\n",
    "\\textrm{ExtendedJaccard}({x},{y}) & = & \\frac{{x}^T {y}}{\\|{x}\\|^2 + \\|{y}\\|^2 - {x}^T {y}} \\\\\n",
    "\\textrm{Correlation}({x},{y}) & = & \\frac{\\textrm{cov}({x},{y})}{\\textrm{std}({x}) \\textrm{std}({y})}\n",
    "\\end{eqnarray*}\n",
    "where $\\textrm{cov}({x},{y})$ denotes the covariance between ${x}$ and ${y}$ and $\\textrm{std}({x})$ denotes the standard deviation of ${x}$.\n",
    "\n",
    "Notice that the SMC and Jaccard similarity measures only are defined for binary\n",
    "data, i.e., data that takes values in $\\{0,1\\}$. As the data we analyze is non-binary,\n",
    "we will transform the data to be binary when calculating these two measures of\n",
    "similarity by setting\n",
    "$x_i = \\left\\{ \\begin{array}{ll} 0 & \\textrm{if~} x_i < \\textrm{median}({x}) \\\\\n",
    "                                1 & \\textrm{otherwise.} \\end{array} \\right.$\n",
    "                                \n",
    "### 1.3.1\n",
    "> (0.5 points) Inspect and run the simfaces function from the Toolbox. The function loads the CBCL face database, computes the similarity between a selected query image and all others, and display the query image, the 5 most similar images, and the 5 least similar images. The value of the used similarity measure is shown below each image. Try changing the query image and the similarity measure and see what happens. Which similarity measures produce similar results? Which one gives the best result? Why?\n",
    "\n",
    "> Give a quick overview of the settings (image number and similarity measure) for each time you run the script! Remember to leave all results open!\n",
    "\n"
   ]
  },
  {
   "cell_type": "code",
   "execution_count": 49,
   "metadata": {},
   "outputs": [
    {
     "data": {
      "image/png": "[encoded data removed]",
      "text/plain": [
       "<Figure size 864x576 with 11 Axes>"
      ]
     },
     "metadata": {},
     "output_type": "display_data"
    }
   ],
   "source": [
    "from Toolbox.simfaces import simfaces\n",
    "\n",
    "simfaces(3,'correlation')"
   ]
  },
  {
   "cell_type": "markdown",
   "metadata": {},
   "source": [
    "1 smc, 2 smc, 3 smc, 1 jaccard, 1 cosine, 1 extendedjaccard, 1 correlation, 2 correlation\n",
    "The most smiilar are smc and jaccard, the images which are the most similar to the query are not far apart. Changing the search query means getting either more or less accurate results since for some algorithms they're easier/harder to compare."
   ]
  },
  {
   "cell_type": "markdown",
   "metadata": {},
   "source": [
    "\n",
    "> (0.75 points) We will investigate how scaling and translation impact the following three\n",
    "similarity measures: Cosine, ExtendedJaccard, and Correlation. Let $\\alpha$ and $\\beta$ be two constants. Using Python, calculate the following similarity measures, and check if the statements below are correct.\n",
    "\n",
    "\\begin{eqnarray*}\n",
    "\\textrm{Cosine}(\\alpha{x},{y}) & = & \\textrm{Cosine}({x},{y}) \\\\\n",
    "\\textrm{ExtendedJaccard}(\\alpha{x},{y}) & = & \\textrm{ExtendedJaccard}({x},{y}) \\\\\n",
    "\\textrm{Correlation}(\\alpha{x},{y}) & = & \\textrm{Correlation}({x},{y}) \\\\\n",
    "\\textrm{Cosine}(\\beta + {x},{y}) & = & \\textrm{Cosine}({x},{y}) \\\\\n",
    "\\textrm{ExtendedJaccard}(\\beta + {x},{y}) & = & \\textrm{ExtendedJaccard}({x},{y}) \\\\\n",
    "\\textrm{Correlation}(\\beta + {x},{y}) & = & \\textrm{Correlation}({x},{y})\n",
    "\\end{eqnarray*}\n",
    "\n",
    "> Type help similarity, or study similarity.py, to learn about the function that is used to compute the similarity measures. Do not forget to also import similarity.py!\n",
    "\n",
    "> Even though a similarity measure is theoretically invariant e.g.\\ to scaling, it might not be exactly invariant numerically.\n",
    "\n",
    "> Do not forget to also provide an explanation in addition to the calculations!\n"
   ]
  },
  {
   "cell_type": "code",
   "execution_count": 69,
   "metadata": {},
   "outputs": [
    {
     "name": "stdout",
     "output_type": "stream",
     "text": [
      "0.9925833339709303\n",
      "0.9925833339709303\n",
      "0.9914999245151155\n",
      "0.33333333333333326\n",
      "0.24999999999999994\n",
      "0.09734513274336282\n",
      "[[ 1.10069908 -1.33656317]\n",
      " [-1.33656317  2.04415543]]\n",
      "[[ 1.65104862 -1.33656317]\n",
      " [-1.33656317  1.36277029]]\n",
      "[[ 1.10069908 -1.33656317]\n",
      " [-1.33656317  2.04415543]]\n"
     ]
    }
   ],
   "source": [
    "import math as maths\n",
    "\n",
    "def cosine (x, y):\n",
    "    top = x @ y\n",
    "    bottom = maths.sqrt(x @ x) * maths.sqrt(y @ y)\n",
    "    return top / bottom\n",
    "\n",
    "x = np.array([1, 2, 3])\n",
    "y = np.array([2, 3, 4])\n",
    "print(cosine(x, y))\n",
    "print(cosine(3 * x, y)) ##yes\n",
    "print(cosine(4 + x, y)) ##no\n",
    "\n",
    "def exJaccard(x, y):\n",
    "    top = x.transpose() @ y\n",
    "    bottom = maths.pow(maths.sqrt(x @ x), 2) + maths.pow(maths.sqrt(y @ y), 2) - x.transpose() @ y\n",
    "    return top / bottom\n",
    "\n",
    "x = np.array([1, 0, 0, 1])\n",
    "y = np.array([0, 1, 0, 1])\n",
    "print(exJaccard(x, y))\n",
    "print(exJaccard(2 * x, y)) #no\n",
    "print(exJaccard(5 + x, y)) #no\n",
    "\n",
    "def correlation(x, y):\n",
    "    top = np.cov(x, y)\n",
    "    bottom = np.std(x) * np.std(y)\n",
    "    return top/bottom\n",
    "\n",
    "x = np.array([2, 4, 8])\n",
    "y = np.array([9, 3, 1])\n",
    "print(correlation(x, y))\n",
    "print(correlation(1.5 * x, y)) #no\n",
    "print(correlation(5.5 + x, y)) #yes"
   ]
  },
  {
   "cell_type": "markdown",
   "metadata": {},
   "source": [
    "Only the first and the last statement are correct: cosine holds under multiplication and correlation holds under addition. The rest of the answers are either really close or pretty far off, so they're likely not calculation errors of some kind."
   ]
  },
  {
   "cell_type": "markdown",
   "metadata": {},
   "source": [
    "## Turning in the Jupyter Notebook\n",
    "Do not forget to read the provided guidelines regarding the expectations and grading of your report. You can find these on Blackboard!"
   ]
  },
  {
   "cell_type": "markdown",
   "metadata": {},
   "source": [
    "## References\n",
    "[1] Tommy S Alstrøm, Jan Larsen, Claus H Nielsen, and Niels B Larsen. Data-driven\n",
    "modeling of nano-nose gas sensor arrays. In SPIE Defense, Security, and Sensing,\n",
    "pages 76970U\u001576970U. International Society for Optics and Photonics, 2010. URL\n",
    "http://www.nanonose.dk."
   ]
  }
 ],
 "metadata": {
  "kernelspec": {
   "display_name": "Python 3",
   "language": "python",
   "name": "python3"
  },
  "language_info": {
   "codemirror_mode": {
    "name": "ipython",
    "version": 3
   },
   "file_extension": ".py",
   "mimetype": "text/x-python",
   "name": "python",
   "nbconvert_exporter": "python",
   "pygments_lexer": "ipython3",
   "version": "3.6.5"
  }
 },
 "nbformat": 4,
 "nbformat_minor": 2
}
