{
 "cells": [
  {
   "cell_type": "markdown",
   "metadata": {},
   "source": [
    "# Assignment 2\n",
    "\n",
    "## Objective of this assignment\n",
    "The objective of this assignment is to get an understanding of the many ways data can be visualized. Upon completing this exercise you should be familiar with histograms, boxplots and scatter plots.\n",
    "\n",
    "\n",
    "## ** Important: ** When handing in your homework:\n",
    "+ Hand in the notebook (and nothing else) named as follows: StudentName1_snumber_StudentName2_snumber.ipynb\n",
    "+ Provide clear and complete answers to the questions below under a separate header (not hidden somewhere in your source code), and make sure to explain your answers / motivate your choices. Add Markdown cells where necessary.\n",
    "+ Source code, output graphs, derivations, etc., should be included in the notebook.\n",
    "+ Hand-in: upload to Blackboard.\n",
    "+ Include name, student number, assignment (especially in filenames)!\n",
    "+ When working in pairs only one of you should upload the assignment, and report the name of your partner in your filename.\n",
    "+ For problems or questions: use the BB discussion board or email the student assistants.\n",
    "\n",
    "\n",
    "## Advised Reading and Exercise Material\n",
    "**The following reading material is recommended:**\n",
    "\n",
    "- Pang-Ning Tan, Michael Steinbach, and Vipin Kumar, *Introduction to Data Mining*, section 3.3\n",
    "- Jonathon Shlens, *A tutorial on Principal Component Analysis* , https://arxiv.org/abs/1404.1100\n",
    "\n",
    "\n",
    "## 2.1 Visualizing wine data (4.5 points)\n",
    "\n",
    "In this part of the exercise we will consider two data sets related to red and white variants of the Portuguese \"Vinho Verde\" wine[1]. The data has been downloaded from http://archive.ics.uci.edu/ml/datasets/Wine+Quality. Only physicochemical and sensory attributes are available, i.e., there is no data about grape types, wine brand, wine selling price, etc. The data has the following attributes:\n",
    "\n",
    "| #   |  Attribute      | Unit |\n",
    "| --- |:--------------- |:---- |\n",
    "| 1   | Fixed acidity (tartaric) | g/dm3 |\n",
    "| 2   | Volatile acidity (acetic) | g/dm3 |\n",
    "| 3   | Citric acid | g/dm3 |\n",
    "| 4   | Residual sugar | g/dm3 |\n",
    "| 5   | Chlorides | g/dm3 |\n",
    "| 6   | Free sulfur dioxide | mg/dm3 |\n",
    "| 7   | Total sulfur dioxide | mg/dm3 |\n",
    "| 8   | Density | g/cm3 |\n",
    "| 9   | pH | pH |\n",
    "| 10  | Sulphates | g/dm3 |\n",
    "| 11  | Alcohol | % vol. |\n",
    "| 12  | Quality score | 0-10 |\n",
    "\n",
    "Attributes 1-11 are based on physicochemical tests and attribute 12 on human judging. The data set has many observations that can be considered outliers and in order to carry out analyses it is important to remove the corrupt observations.\n",
    "\n",
    "The aim of this exercise is to use visualization to identify outliers and remove these outliers from the data. It might be necessary to remove some outliers before other outlying observations become visible. Thus, the process of finding and removing outliers is often iterative. The wine data is stored in a MATLAB file, Data/wine.mat\n",
    "\n",
    "*This exercise is based upon material kindly provided by the Cognitive System Section, DTU Compute,\n",
    "http://cogsys.compute.dtu.dk. Any sale or commercial distribution is strictly forbidden.*\n",
    "\n",
    "> 2.1.1 Load the data into Python using the scipy.io.loadmat() function. This data set contains many observations that can be considered outliers. Plot a box plot and a histogram for each attribute to visualize the outliers in the data set. From prior knowledge we expect volatile acidity to be around 0-2 g/dm3, density to be close to 1 g/cm3, and alcohol percentage to be somewhere between 5-20% vol. We can safely identify the outliers for these attributes, searching for the values, which are a factor of 10 greater than the largest we expect. Identify outliers for volatile acidity, density and alcohol percentage, and remove them from the data set. Plot new box plot and histogram for these attributes and compare them with initial ones.\n",
    " + *You can use the scipy.stats.zscore() to standardize your data before you plot a boxplot.*\n",
    " + *You can use the function matplotlib.pyplot.subplot() to plot several plots in one figure.*\n"
   ]
  },
  {
   "cell_type": "code",
   "execution_count": null,
   "metadata": {},
   "outputs": [],
   "source": [
    "##Q: this shit don't run\n",
    "import scipy\n",
    "from scipy import io\n",
    "from scipy import stats\n",
    "import matplotlib\n",
    "from matplotlib import pyplot\n",
    "\n",
    "x = scipy.io.loadmat(\"Data/wine.mat\")\n",
    "y = x.get('X')\n",
    "\n",
    "for i in y:\n",
    "    i = i.transpose()\n",
    "    i = scipy.stats.zscore(i)\n",
    "    matplotlib.pyplot.boxplot(i)\n",
    "    matplotlib.pyplot.hist(i)\n",
    "    \n",
    "z = [y[1], y[7], y[10]]\n",
    "z2 = [y[1], y[7], y[10]]\n",
    "lb = [-10, -10, -70]\n",
    "ub = [12, 12, 95]\n",
    "\n",
    "for i in enumerate(z):\n",
    "    for j in i[1]:\n",
    "        if j < lb[i[0]] or j > ub[i[0]]:\n",
    "            z = numpy.delete(z[i[0]], j)\n",
    "            \n",
    "for i in enumerate(z):\n",
    "    i = i.transpose()\n",
    "    i[1] = scipy.stats.zscore(i[1])\n",
    "    z2[i[0]] = scipy.stats.zscore(z2[i[0]])\n",
    "    matplotlib.pyplot.subplot(2, 1, 1)\n",
    "    matplotlib.pyplot.boxplot(i[1])\n",
    "    matplotlib.pyplot.boxplot(z2[i[0]])\n",
    "    matplotlib.pyplot.hist(i[1])\n",
    "    matplotlib.pyplot.hist(z2[i[0]])"
   ]
  },
  {
   "cell_type": "markdown",
   "metadata": {
    "collapsed": true
   },
   "source": [
    "Importing stats from scipy and trying to standardize the data caused our laptops to not run (or maybe take a very long time) the assignments anymore. We added the code for the final version but we could not display all the plots to compare the attributes."
   ]
  },
  {
   "cell_type": "markdown",
   "metadata": {},
   "source": [
    "> 2.1.2 Make scatter plots between attributes and wine quality as rated by human judges. Can you manually identify any clear relationship between the attributes of the wine and wine quality? Which values of these attributes are associated with high quality wine?\n",
    "+ *You can calculate the correlation coefficient using the scipy.stats.pearsonr() function to measure the strength of association.*"
   ]
  },
  {
   "cell_type": "code",
   "execution_count": 20,
   "metadata": {},
   "outputs": [
    {
     "name": "stdout",
     "output_type": "stream",
     "text": [
      "(0.9697785882717999, 1.8872200723456736e-07)\n",
      "(0.9781838280619386, 3.75220271306756e-08)\n",
      "(0.9899289597754353, 8.022662795560918e-10)\n",
      "(0.9862095719764714, 3.83823134311282e-09)\n",
      "(0.9697785882717999, 1.8872200723456736e-07)\n",
      "(0.9772803553394314, 4.5892496537359175e-08)\n",
      "(0.9926793128988036, 1.6356994039037073e-10)\n",
      "(0.820723274687778, 0.001070269481819808)\n",
      "(0.8402039169132107, 0.0006234027862688098)\n",
      "(1.0, 0.0)\n"
     ]
    },
    {
     "data": {
      "image/png": "[encoded data removed]",
      "text/plain": [
       "<Figure size 432x288 with 1 Axes>"
      ]
     },
     "metadata": {},
     "output_type": "display_data"
    }
   ],
   "source": [
    "from scipy import stats\n",
    "for i in range(0, 10):\n",
    "    matplotlib.pyplot.scatter(y[i], y[11])\n",
    "    print(scipy.stats.pearsonr(y[i], y[11]))"
   ]
  },
  {
   "cell_type": "markdown",
   "metadata": {
    "collapsed": true
   },
   "source": [
    "The p-values for Sulphates and Alcohol are by far the largest so they have the most effect on the quality score. They correlate positively because their p-value is also positive."
   ]
  },
  {
   "cell_type": "markdown",
   "metadata": {
    "collapsed": true
   },
   "source": [
    "## 2.2 Visualizing the handwritten digits (4 points)\n",
    "\n",
    "In this part of the exercise we will analyse the famous *mnist* handwritten digit dataset from: http://yann.lecun.com/exdb/mnist/.\n",
    "\n",
    "> 2.2.1 Load zipdata.mat by using the loadmat function. There are two data sets containing handwritten digits: *testdata* and *traindata*. Here, we will only use *traindata*. The first column in the matrix *traindata* contains the digit (class) and the last 256 columns contain the pixel values.\n",
    "Create the data matrix *X* and the class index vector *y* from the data. Remove\n",
    "the digits with the class index 2-9 from the data, so only digits belonging to\n",
    "the class 0 and 1 are analyzed. Visualize the first 10 digits as images. \n",
    "Next, compute the principal components (PCA) of the data matrix. Now,\n",
    "using the PCA, create a new data matrix *Xpca*. The new data matrix should have 4 attributes corresponding to PC1-PC4. Reconstruct the initial data using PC1-PC4. Visualize the first 10 digits as images for the reconstructed data and compare them with images for the original data.\n",
    "Make a matrix of scatter plots of each combination of two principal components\n",
    "for PC1-PC4 against each other. Make a 3-dimensional scatter plot of three\n",
    "principal components PC1-PC3. Plot elements belonging to different classes in\n",
    "different colors. Add a legend to clarify which digit is shown in which color.\n",
    "+ *The below example code can help you visualize digits as images.*\n",
    "+ *See Assignment 1 if you can not recall how to compute a PCA.*\n",
    "+ *Keep in mind that numpy.linalg.svd() returns the transposed **V<sup>T</sup>** matrix as output.*\n",
    "+ *You can use * **Z** = **Y**\\***V**[:,:4] to project the data onto the first four PCs.*\n",
    "+ *To reconstruct the data from projection you can use the following formula: **W** = **Z**&ast;**V**[:,:4]<sup>T</sup> + **μ**. *\n"
   ]
  },
  {
   "cell_type": "code",
   "execution_count": 55,
   "metadata": {},
   "outputs": [
    {
     "data": {
      "image/png": "[encoded data removed]",
      "text/plain": [
       "<Figure size 432x288 with 1 Axes>"
      ]
     },
     "metadata": {},
     "output_type": "display_data"
    }
   ],
   "source": [
    "## Example code:\n",
    "#------------------------------------------------\n",
    "plt.subplot(1,1,1);\n",
    "I = reshape(X[i,:],(16,16))\n",
    "plt.imshow(I, extent=(0,16,0,16), cmap=cm.gray_r);\n",
    "plt.title('Digit as an image');\n",
    "plt.show()\n",
    "#------------------------------------------------"
   ]
  },
  {
   "cell_type": "markdown",
   "metadata": {},
   "source": []
  },
  {
   "cell_type": "code",
   "execution_count": 70,
   "metadata": {},
   "outputs": [
    {
     "name": "stderr",
     "output_type": "stream",
     "text": [
      "D:\\Anaconda\\lib\\site-packages\\matplotlib\\cbook\\deprecation.py:107: MatplotlibDeprecationWarning: Adding an axes using the same arguments as a previous axes currently reuses the earlier instance.  In a future version, a new instance will always be created and returned.  Meanwhile, this warning can be suppressed, and the future behavior ensured, by passing a unique label to each axes instance.\n",
      "  warnings.warn(message, mplDeprecation, stacklevel=1)\n",
      "D:\\Anaconda\\lib\\site-packages\\matplotlib\\collections.py:902: RuntimeWarning: invalid value encountered in sqrt\n",
      "  scale = np.sqrt(self._sizes) * dpi / 72.0 * self._factor\n"
     ]
    },
    {
     "data": {
      "image/png": "[encoded data removed]",
      "text/plain": [
       "<Figure size 432x288 with 1 Axes>"
      ]
     },
     "metadata": {},
     "output_type": "display_data"
    }
   ],
   "source": [
    "\n",
    "import numpy as np\n",
    "import matplotlib.pyplot as plt\n",
    "import matplotlib.cm as cm\n",
    "from scipy.io import loadmat\n",
    "from numpy import reshape\n",
    "\n",
    "# Index of the digit to display\n",
    "i = 0\n",
    "\n",
    "# Load Matlab data file to python dict structure\n",
    "mat_data = loadmat('./Data/zipdata.mat')\n",
    "\n",
    "# Extract variables of interest\n",
    "testdata = mat_data['testdata']\n",
    "traindata = mat_data['traindata']\n",
    "X = traindata[:,1:]\n",
    "y = traindata[:,0]\n",
    "\n",
    "# Delete rows with class 2-9\n",
    "delete = []\n",
    "for i, v in enumerate(y):\n",
    "    if v > 1:\n",
    "        delete.append(i)\n",
    "X = np.delete(X, delete, 0)\n",
    "\n",
    "# Visualize the i'th digit as an image\n",
    "for i in range (0, 10):\n",
    "    plt.subplot(1,1,1);\n",
    "    I = reshape(X[i,:],(16,16))\n",
    "    plt.imshow(I, extent=(0,16,0,16), cmap=cm.gray_r);\n",
    "    plt.title('Digit as an image');\n",
    "    ##plt.show()\n",
    "\n",
    "# Apply PCA\n",
    "X = X.astype(float)\n",
    "mu = np.empty(256)\n",
    "for i in range(0, 255):\n",
    "    mu[i] = np.mean(X[:,i])\n",
    "T = np.tile(mu, (2199, 1))\n",
    "Y = X - T\n",
    "U, S, V = np.linalg.svd(Y)\n",
    "Z = np.dot(Y, V.transpose()) \n",
    "Xpca = V[:,:4]\n",
    "mu = np.empty(4)\n",
    "for i in range(0, 3):\n",
    "    mu[i] = np.mean(Xpca[:,i])\n",
    "# Reconstruct data\n",
    "W = np.dot(Z, V[:,:4]) + mu\n",
    "\n",
    "# Visualize the i'th digit as an image\n",
    "for i in range (0, 10):\n",
    "    plt.subplot(1,1,1);\n",
    "    I = reshape(X[i,:],(16,16))\n",
    "    plt.imshow(I, extent=(0,16,0,16), cmap=cm.gray_r);\n",
    "    plt.title('Digit as an image');\n",
    "    ##plt.show()\n",
    "\n",
    "N = [plt.scatter(Xpca[0], Xpca[1]), plt.scatter(Xpca[0], Xpca[2]), plt.scatter(Xpca[0], Xpca[3]), \n",
    "     plt.scatter(Xpca[1], Xpca[2]), plt.scatter(Xpca[1], Xpca[3]), plt.scatter(Xpca[2], Xpca[3])]\n",
    "plt.scatter(Xpca[0], Xpca[1], Xpca[2])\n",
    "##we couldn't figure out how to do the colors"
   ]
  },
  {
   "cell_type": "markdown",
   "metadata": {},
   "source": [
    "All the reconstructed images look very much like the originals."
   ]
  },
  {
   "cell_type": "markdown",
   "metadata": {},
   "source": [
    "## 2.3 Probability and Statistics (1.5 points)\n",
    "The aim of this exercise is to learn how to calculate basic statistics in python.\n",
    "> 2.3.1 A study of a very limited population of Aliens reveals the following number of body appendages (limbs):\n",
    "<center>2,3,6,8,11,18</center>\n",
    "i. Find the mean $m$ and the standard deviation $\\sigma$ of this population.\n",
    "+ *You can use the methods numpy.ndarray.mean() and numpy.ndarray.std() to calculate the mean and standard deviation.*"
   ]
  },
  {
   "cell_type": "code",
   "execution_count": 75,
   "metadata": {},
   "outputs": [
    {
     "name": "stdout",
     "output_type": "stream",
     "text": [
      "[ 2  3  6  8 11 18]\n",
      "8.0\n",
      "5.385164807134504\n"
     ]
    }
   ],
   "source": [
    "import numpy as np\n",
    "\n",
    "data = numpy.array([2, 3, 6, 8, 11, 18])\n",
    "print(data)\n",
    "mean = np.ndarray.mean(data)\n",
    "std = np.ndarray.std(data)\n",
    "print(mean)\n",
    "print(std)"
   ]
  },
  {
   "cell_type": "markdown",
   "metadata": {},
   "source": [
    "> ii. List all possible samples of two aliens without replacement, and find each mean. Do the same with samples of four aliens.\n",
    "+ *You can use the method itertools.combinations(v,n) to find all possible samples of a vector v taking n elements at a time.*"
   ]
  },
  {
   "cell_type": "code",
   "execution_count": 98,
   "metadata": {},
   "outputs": [
    {
     "name": "stdout",
     "output_type": "stream",
     "text": [
      "[(2, 3), (2, 6), (2, 8), (2, 11), (2, 18), (3, 6), (3, 8), (3, 11), (3, 18), (6, 8), (6, 11), (6, 18), (8, 11), (8, 18), (11, 18)]\n",
      "[(2, 3, 6, 8), (2, 3, 6, 11), (2, 3, 6, 18), (2, 3, 8, 11), (2, 3, 8, 18), (2, 3, 11, 18), (2, 6, 8, 11), (2, 6, 8, 18), (2, 6, 11, 18), (2, 8, 11, 18), (3, 6, 8, 11), (3, 6, 8, 18), (3, 6, 11, 18), (3, 8, 11, 18), (6, 8, 11, 18)]\n",
      "[ 2.5  4.   5.   6.5 10.   4.5  5.5  7.  10.5  7.   8.5 12.   9.5 13.\n",
      " 14.5]\n",
      "[ 4.75  5.5   7.25  6.    7.75  8.5   6.75  8.5   9.25  9.75  7.    8.75\n",
      "  9.5  10.   10.75]\n"
     ]
    }
   ],
   "source": [
    "import itertools\n",
    "\n",
    "comb2 = list(itertools.combinations(data, 2))\n",
    "comb4 = list(itertools.combinations(data, 4))\n",
    "print(comb2)\n",
    "print(comb4)\n",
    "\n",
    "means2 = np.empty(len(comb2))\n",
    "means4 = np.empty(len(comb4))\n",
    "\n",
    "for i, v in enumerate(comb2):\n",
    "    means2[i] =  np.ndarray.mean(np.asarray(v))\n",
    "for j, w in enumerate(comb4):\n",
    "    means4[j] =  np.ndarray.mean(np.asarray(w))\n",
    "    \n",
    "print(means2)\n",
    "print(means4)"
   ]
  },
  {
   "cell_type": "markdown",
   "metadata": {},
   "source": [
    "> iii. Each of the means above is called a sample mean. Find the mean of all the sample means (denoted by $m_x$) and the standard\n",
    "deviation of all the sample means (denoted by $\\sigma_x$) for both\n",
    "the *N=2* and *N=4* samples.\n",
    "\n",
    "Answer:\n",
    "\n",
    "mx = np.ndarray.mean(means2 + means4)\n",
    "\n",
    "sx = np.ndarray.std(means2 + means4)\n",
    "\n",
    "print(mx)\n",
    "print(sx)"
   ]
  },
  {
   "cell_type": "markdown",
   "metadata": {},
   "source": [
    "> iv. Verify the Central Limit Theorem: (i) compare the population\n",
    "mean with the mean of both sample means; (ii) compare the population\n",
    "standard deviation divided by the square root of the sample size\n",
    "with the standard deviation of both sample means (i.e., does\n",
    "$\\sigma_x \\approx \\sigma/\\sqrt{N}$). BTW, a better approximation for\n",
    "small population sizes is $\\sigma_x = \\sigma / \\sqrt{N} \\times\n",
    "\\sqrt{(M-N)/(M-1)}$ with *M = 6* the size of the original"
   ]
  },
  {
   "cell_type": "markdown",
   "metadata": {},
   "source": [
    "(i) They're both 8; (ii) sx is almost twice as large as s/sqrt(N)"
   ]
  },
  {
   "cell_type": "markdown",
   "metadata": {},
   "source": [
    "> v. Plot the distribution of the population and the distributions of both sample means using histograms. What happens to the shape of the sample means distribution as the sample size (N*) increases?"
   ]
  },
  {
   "cell_type": "code",
   "execution_count": 100,
   "metadata": {
    "scrolled": true
   },
   "outputs": [
    {
     "data": {
      "text/plain": [
       "(array([1., 1., 1., 2., 1., 1., 3., 2., 2., 1.]),\n",
       " array([ 4.75,  5.35,  5.95,  6.55,  7.15,  7.75,  8.35,  8.95,  9.55,\n",
       "        10.15, 10.75]),\n",
       " <a list of 10 Patch objects>)"
      ]
     },
     "execution_count": 100,
     "metadata": {},
     "output_type": "execute_result"
    },
    {
     "data": {
      "image/png": "[encoded data removed]",
      "text/plain": [
       "<Figure size 432x288 with 1 Axes>"
      ]
     },
     "metadata": {},
     "output_type": "display_data"
    }
   ],
   "source": [
    "import matplotlib as mpl\n",
    "\n",
    "mpl.pyplot.hist(means2)\n",
    "mpl.pyplot.hist(means4)"
   ]
  },
  {
   "cell_type": "code",
   "execution_count": 113,
   "metadata": {},
   "outputs": [
    {
     "name": "stdout",
     "output_type": "stream",
     "text": [
      "8.0\n",
      "4.847679857416329\n"
     ]
    }
   ],
   "source": [
    "mx = np.ndarray.mean(np.concatenate([means2, means4]))\n",
    "\n",
    "sx = np.ndarray.std(np.concatenate([means2 + means4]))\n",
    "                                   \n",
    "print(mx)\n",
    "print(sx)"
   ]
  },
  {
   "cell_type": "code",
   "execution_count": null,
   "metadata": {},
   "outputs": [],
   "source": []
  },
  {
   "cell_type": "code",
   "execution_count": null,
   "metadata": {},
   "outputs": [],
   "source": []
  }
 ],
 "metadata": {
  "kernelspec": {
   "display_name": "Python 3",
   "language": "python",
   "name": "python3"
  },
  "language_info": {
   "codemirror_mode": {
    "name": "ipython",
    "version": 3
   },
   "file_extension": ".py",
   "mimetype": "text/x-python",
   "name": "python",
   "nbconvert_exporter": "python",
   "pygments_lexer": "ipython3",
   "version": "3.6.5"
  }
 },
 "nbformat": 4,
 "nbformat_minor": 2
}
